{
 "cells": [
  {
   "cell_type": "markdown",
   "id": "ac591df7",
   "metadata": {},
   "source": [
    "## 1. Introduction"
   ]
  },
  {
   "cell_type": "markdown",
   "id": "7007711c",
   "metadata": {},
   "source": [
    "Machine learning systems are widely used tool for financial institutions to assess the creditworthiness of loan applicants. This evaluation is based on personal information provided by the applicant and infromation from credit records, which is then used to predict the likelihood of future defaults on credit card borrowing. Using this prediction, the bank decides whether to approve or reject credit card approval. These machine learning systems objectively quantify the credit risk associated with a particular applicant and provides a standard measure for credit risk assessment. Likewise, in this project, we will be using a Kaggle dataset (https://www.kaggle.com/datasets/rikdifos/credit-card-approval-prediction) to classify the approval or rejection of credit card applications for applicants. The primary objective of this project is to build a machine learning model that accurately predicts whether a credit card application will be approved or rejected."
   ]
  },
  {
   "cell_type": "markdown",
   "id": "d1c2e0ed",
   "metadata": {},
   "source": [
    "## 2. Methodology"
   ]
  },
  {
   "cell_type": "markdown",
   "id": "d69b8d35",
   "metadata": {},
   "source": [
    "In this Jupyter notebook, I conducted an extensive analysis of the data, including exploring its characteristics, splitting it into training, validation, and testing sets, and pre-processing it for ML modeling. I employed various data pre-processing techniques such as binary encoding, one hot encoding, and feature scaling to ensure optimal performance of the models. Then, I identified the best algorithm and its corresponding hyper-parameters using random search CV with 3 fold cross validation. In this project, precision, recall, and F1 score were used to evaluate the model performance. "
   ]
  },
  {
   "cell_type": "markdown",
   "id": "7b541a46",
   "metadata": {},
   "source": [
    "## 3. Development of the Credit Card Approval Prediction ML Model"
   ]
  },
  {
   "cell_type": "markdown",
   "id": "757ef223",
   "metadata": {},
   "source": [
    "### 3.1 Import Libraries"
   ]
  },
  {
   "cell_type": "code",
   "execution_count": 1,
   "id": "475bc8f2",
   "metadata": {},
   "outputs": [],
   "source": [
    "# data manipulation\n",
    "import pandas as pd\n",
    "\n",
    "# mathematical functions\n",
    "import numpy as np\n",
    "from scipy.stats import randint, uniform\n",
    "import random\n",
    "\n",
    "# data visualization\n",
    "import plotly.express as px\n",
    "import plotly.graph_objs as go\n",
    "import plotly.offline as pyo\n",
    "import plotly.subplots as sp\n",
    "from plotly.subplots import make_subplots\n",
    "\n",
    "# data splitting\n",
    "from sklearn.model_selection import train_test_split\n",
    "\n",
    "# data preprocessing\n",
    "from sklearn.preprocessing import StandardScaler, MinMaxScaler, OneHotEncoder, OrdinalEncoder\n",
    "import category_encoders as ce\n",
    "from category_encoders import BinaryEncoder\n",
    "from imblearn.over_sampling import SMOTE\n",
    "from sklearn.cluster import KMeans\n",
    "\n",
    "# algorithms\n",
    "from sklearn.linear_model import LogisticRegression\n",
    "from sklearn.neighbors import KNeighborsClassifier\n",
    "from sklearn.ensemble import RandomForestClassifier\n",
    "from xgboost import XGBClassifier\n",
    "from sklearn.svm import SVC\n",
    "\n",
    "# model training requirements\n",
    "import warnings\n",
    "from sklearn.model_selection import RandomizedSearchCV, KFold\n",
    "\n",
    "# model evaluation\n",
    "from sklearn.metrics import f1_score\n",
    "from sklearn.metrics import classification_report\n",
    "\n",
    "# save model\n",
    "import joblib"
   ]
  },
  {
   "cell_type": "markdown",
   "id": "87089c94",
   "metadata": {},
   "source": [
    "### 3.2 Data Collection"
   ]
  },
  {
   "cell_type": "markdown",
   "id": "2de4f467",
   "metadata": {},
   "source": [
    "In this section dataset containing applicant information and dataset containing credit records are collected."
   ]
  },
  {
   "cell_type": "code",
   "execution_count": 2,
   "id": "dbd66afc",
   "metadata": {},
   "outputs": [
    {
     "name": "stdout",
     "output_type": "stream",
     "text": [
      "The shape of df1: (438557, 18)\n"
     ]
    },
    {
     "data": {
      "text/html": [
       "<div>\n",
       "<style scoped>\n",
       "    .dataframe tbody tr th:only-of-type {\n",
       "        vertical-align: middle;\n",
       "    }\n",
       "\n",
       "    .dataframe tbody tr th {\n",
       "        vertical-align: top;\n",
       "    }\n",
       "\n",
       "    .dataframe thead th {\n",
       "        text-align: right;\n",
       "    }\n",
       "</style>\n",
       "<table border=\"1\" class=\"dataframe\">\n",
       "  <thead>\n",
       "    <tr style=\"text-align: right;\">\n",
       "      <th></th>\n",
       "      <th>ID</th>\n",
       "      <th>CODE_GENDER</th>\n",
       "      <th>FLAG_OWN_CAR</th>\n",
       "      <th>FLAG_OWN_REALTY</th>\n",
       "      <th>CNT_CHILDREN</th>\n",
       "      <th>AMT_INCOME_TOTAL</th>\n",
       "      <th>NAME_INCOME_TYPE</th>\n",
       "      <th>NAME_EDUCATION_TYPE</th>\n",
       "      <th>NAME_FAMILY_STATUS</th>\n",
       "      <th>NAME_HOUSING_TYPE</th>\n",
       "      <th>DAYS_BIRTH</th>\n",
       "      <th>DAYS_EMPLOYED</th>\n",
       "      <th>FLAG_MOBIL</th>\n",
       "      <th>FLAG_WORK_PHONE</th>\n",
       "      <th>FLAG_PHONE</th>\n",
       "      <th>FLAG_EMAIL</th>\n",
       "      <th>OCCUPATION_TYPE</th>\n",
       "      <th>CNT_FAM_MEMBERS</th>\n",
       "    </tr>\n",
       "  </thead>\n",
       "  <tbody>\n",
       "    <tr>\n",
       "      <th>0</th>\n",
       "      <td>5008804</td>\n",
       "      <td>M</td>\n",
       "      <td>Y</td>\n",
       "      <td>Y</td>\n",
       "      <td>0</td>\n",
       "      <td>427500.0</td>\n",
       "      <td>Working</td>\n",
       "      <td>Higher education</td>\n",
       "      <td>Civil marriage</td>\n",
       "      <td>Rented apartment</td>\n",
       "      <td>-12005</td>\n",
       "      <td>-4542</td>\n",
       "      <td>1</td>\n",
       "      <td>1</td>\n",
       "      <td>0</td>\n",
       "      <td>0</td>\n",
       "      <td>NaN</td>\n",
       "      <td>2.0</td>\n",
       "    </tr>\n",
       "    <tr>\n",
       "      <th>1</th>\n",
       "      <td>5008805</td>\n",
       "      <td>M</td>\n",
       "      <td>Y</td>\n",
       "      <td>Y</td>\n",
       "      <td>0</td>\n",
       "      <td>427500.0</td>\n",
       "      <td>Working</td>\n",
       "      <td>Higher education</td>\n",
       "      <td>Civil marriage</td>\n",
       "      <td>Rented apartment</td>\n",
       "      <td>-12005</td>\n",
       "      <td>-4542</td>\n",
       "      <td>1</td>\n",
       "      <td>1</td>\n",
       "      <td>0</td>\n",
       "      <td>0</td>\n",
       "      <td>NaN</td>\n",
       "      <td>2.0</td>\n",
       "    </tr>\n",
       "    <tr>\n",
       "      <th>2</th>\n",
       "      <td>5008806</td>\n",
       "      <td>M</td>\n",
       "      <td>Y</td>\n",
       "      <td>Y</td>\n",
       "      <td>0</td>\n",
       "      <td>112500.0</td>\n",
       "      <td>Working</td>\n",
       "      <td>Secondary / secondary special</td>\n",
       "      <td>Married</td>\n",
       "      <td>House / apartment</td>\n",
       "      <td>-21474</td>\n",
       "      <td>-1134</td>\n",
       "      <td>1</td>\n",
       "      <td>0</td>\n",
       "      <td>0</td>\n",
       "      <td>0</td>\n",
       "      <td>Security staff</td>\n",
       "      <td>2.0</td>\n",
       "    </tr>\n",
       "    <tr>\n",
       "      <th>3</th>\n",
       "      <td>5008808</td>\n",
       "      <td>F</td>\n",
       "      <td>N</td>\n",
       "      <td>Y</td>\n",
       "      <td>0</td>\n",
       "      <td>270000.0</td>\n",
       "      <td>Commercial associate</td>\n",
       "      <td>Secondary / secondary special</td>\n",
       "      <td>Single / not married</td>\n",
       "      <td>House / apartment</td>\n",
       "      <td>-19110</td>\n",
       "      <td>-3051</td>\n",
       "      <td>1</td>\n",
       "      <td>0</td>\n",
       "      <td>1</td>\n",
       "      <td>1</td>\n",
       "      <td>Sales staff</td>\n",
       "      <td>1.0</td>\n",
       "    </tr>\n",
       "    <tr>\n",
       "      <th>4</th>\n",
       "      <td>5008809</td>\n",
       "      <td>F</td>\n",
       "      <td>N</td>\n",
       "      <td>Y</td>\n",
       "      <td>0</td>\n",
       "      <td>270000.0</td>\n",
       "      <td>Commercial associate</td>\n",
       "      <td>Secondary / secondary special</td>\n",
       "      <td>Single / not married</td>\n",
       "      <td>House / apartment</td>\n",
       "      <td>-19110</td>\n",
       "      <td>-3051</td>\n",
       "      <td>1</td>\n",
       "      <td>0</td>\n",
       "      <td>1</td>\n",
       "      <td>1</td>\n",
       "      <td>Sales staff</td>\n",
       "      <td>1.0</td>\n",
       "    </tr>\n",
       "  </tbody>\n",
       "</table>\n",
       "</div>"
      ],
      "text/plain": [
       "        ID CODE_GENDER FLAG_OWN_CAR FLAG_OWN_REALTY  CNT_CHILDREN  \\\n",
       "0  5008804           M            Y               Y             0   \n",
       "1  5008805           M            Y               Y             0   \n",
       "2  5008806           M            Y               Y             0   \n",
       "3  5008808           F            N               Y             0   \n",
       "4  5008809           F            N               Y             0   \n",
       "\n",
       "   AMT_INCOME_TOTAL      NAME_INCOME_TYPE            NAME_EDUCATION_TYPE  \\\n",
       "0          427500.0               Working               Higher education   \n",
       "1          427500.0               Working               Higher education   \n",
       "2          112500.0               Working  Secondary / secondary special   \n",
       "3          270000.0  Commercial associate  Secondary / secondary special   \n",
       "4          270000.0  Commercial associate  Secondary / secondary special   \n",
       "\n",
       "     NAME_FAMILY_STATUS  NAME_HOUSING_TYPE  DAYS_BIRTH  DAYS_EMPLOYED  \\\n",
       "0        Civil marriage   Rented apartment      -12005          -4542   \n",
       "1        Civil marriage   Rented apartment      -12005          -4542   \n",
       "2               Married  House / apartment      -21474          -1134   \n",
       "3  Single / not married  House / apartment      -19110          -3051   \n",
       "4  Single / not married  House / apartment      -19110          -3051   \n",
       "\n",
       "   FLAG_MOBIL  FLAG_WORK_PHONE  FLAG_PHONE  FLAG_EMAIL OCCUPATION_TYPE  \\\n",
       "0           1                1           0           0             NaN   \n",
       "1           1                1           0           0             NaN   \n",
       "2           1                0           0           0  Security staff   \n",
       "3           1                0           1           1     Sales staff   \n",
       "4           1                0           1           1     Sales staff   \n",
       "\n",
       "   CNT_FAM_MEMBERS  \n",
       "0              2.0  \n",
       "1              2.0  \n",
       "2              2.0  \n",
       "3              1.0  \n",
       "4              1.0  "
      ]
     },
     "execution_count": 2,
     "metadata": {},
     "output_type": "execute_result"
    }
   ],
   "source": [
    "# gathering dataset for building prediction model\n",
    "df1 = pd.read_csv(\"C:/Users/aswinram/Aswin's Data Science Portfolio/Credit Card Approval Prediction/data/application_record.csv\")\n",
    "\n",
    "# remove spaces in columns name\n",
    "df1.columns = df1.columns.str.replace(' ','_')\n",
    "\n",
    "# print shape of df\n",
    "print(\"The shape of df1:\", df1.shape)\n",
    "\n",
    "df1.head()"
   ]
  },
  {
   "cell_type": "code",
   "execution_count": 3,
   "id": "cc1c9e5e",
   "metadata": {},
   "outputs": [
    {
     "name": "stdout",
     "output_type": "stream",
     "text": [
      "The shape of df2: (1048575, 3)\n"
     ]
    },
    {
     "data": {
      "text/html": [
       "<div>\n",
       "<style scoped>\n",
       "    .dataframe tbody tr th:only-of-type {\n",
       "        vertical-align: middle;\n",
       "    }\n",
       "\n",
       "    .dataframe tbody tr th {\n",
       "        vertical-align: top;\n",
       "    }\n",
       "\n",
       "    .dataframe thead th {\n",
       "        text-align: right;\n",
       "    }\n",
       "</style>\n",
       "<table border=\"1\" class=\"dataframe\">\n",
       "  <thead>\n",
       "    <tr style=\"text-align: right;\">\n",
       "      <th></th>\n",
       "      <th>ID</th>\n",
       "      <th>MONTHS_BALANCE</th>\n",
       "      <th>STATUS</th>\n",
       "    </tr>\n",
       "  </thead>\n",
       "  <tbody>\n",
       "    <tr>\n",
       "      <th>0</th>\n",
       "      <td>5001711</td>\n",
       "      <td>0</td>\n",
       "      <td>X</td>\n",
       "    </tr>\n",
       "    <tr>\n",
       "      <th>1</th>\n",
       "      <td>5001711</td>\n",
       "      <td>-1</td>\n",
       "      <td>0</td>\n",
       "    </tr>\n",
       "    <tr>\n",
       "      <th>2</th>\n",
       "      <td>5001711</td>\n",
       "      <td>-2</td>\n",
       "      <td>0</td>\n",
       "    </tr>\n",
       "    <tr>\n",
       "      <th>3</th>\n",
       "      <td>5001711</td>\n",
       "      <td>-3</td>\n",
       "      <td>0</td>\n",
       "    </tr>\n",
       "    <tr>\n",
       "      <th>4</th>\n",
       "      <td>5001712</td>\n",
       "      <td>0</td>\n",
       "      <td>C</td>\n",
       "    </tr>\n",
       "  </tbody>\n",
       "</table>\n",
       "</div>"
      ],
      "text/plain": [
       "        ID  MONTHS_BALANCE STATUS\n",
       "0  5001711               0      X\n",
       "1  5001711              -1      0\n",
       "2  5001711              -2      0\n",
       "3  5001711              -3      0\n",
       "4  5001712               0      C"
      ]
     },
     "execution_count": 3,
     "metadata": {},
     "output_type": "execute_result"
    }
   ],
   "source": [
    "# gathering dataset for building prediction model\n",
    "df2 = pd.read_csv(\"C:/Users/aswinram/Aswin's Data Science Portfolio/Credit Card Approval Prediction/data/credit_record.csv\")\n",
    "\n",
    "# remove spaces in columns name\n",
    "df2.columns = df2.columns.str.replace(' ','_')\n",
    "\n",
    "# print shape of df\n",
    "print(\"The shape of df2:\", df2.shape)\n",
    "\n",
    "df2.head()"
   ]
  },
  {
   "cell_type": "markdown",
   "id": "b1735f65",
   "metadata": {},
   "source": [
    "### 3.3 Data Preprocessing I"
   ]
  },
  {
   "cell_type": "markdown",
   "id": "ccd882e9",
   "metadata": {},
   "source": [
    "Data preprocessing is an essential step in machine learning that involves transforming raw data into a format suitable for modeling. The process includes data cleaning, feature engineering, feature scaling, and feature selection. In Data preprocessing I, data is preprocessed to suit the needs of the project before data splitting. Later, in Data Preprocessing II, certain stragies are adopted to enrich the data further for predictive modeling."
   ]
  },
  {
   "cell_type": "markdown",
   "id": "fc5e81c4",
   "metadata": {},
   "source": [
    "##### Merge the \"application_record\" & \"credit_record\" DataFrames"
   ]
  },
  {
   "cell_type": "code",
   "execution_count": 4,
   "id": "c417e8f6",
   "metadata": {},
   "outputs": [
    {
     "name": "stdout",
     "output_type": "stream",
     "text": [
      "The shape of df: (1450675, 20)\n"
     ]
    },
    {
     "data": {
      "text/html": [
       "<div>\n",
       "<style scoped>\n",
       "    .dataframe tbody tr th:only-of-type {\n",
       "        vertical-align: middle;\n",
       "    }\n",
       "\n",
       "    .dataframe tbody tr th {\n",
       "        vertical-align: top;\n",
       "    }\n",
       "\n",
       "    .dataframe thead th {\n",
       "        text-align: right;\n",
       "    }\n",
       "</style>\n",
       "<table border=\"1\" class=\"dataframe\">\n",
       "  <thead>\n",
       "    <tr style=\"text-align: right;\">\n",
       "      <th></th>\n",
       "      <th>ID</th>\n",
       "      <th>CODE_GENDER</th>\n",
       "      <th>FLAG_OWN_CAR</th>\n",
       "      <th>FLAG_OWN_REALTY</th>\n",
       "      <th>CNT_CHILDREN</th>\n",
       "      <th>AMT_INCOME_TOTAL</th>\n",
       "      <th>NAME_INCOME_TYPE</th>\n",
       "      <th>NAME_EDUCATION_TYPE</th>\n",
       "      <th>NAME_FAMILY_STATUS</th>\n",
       "      <th>NAME_HOUSING_TYPE</th>\n",
       "      <th>DAYS_BIRTH</th>\n",
       "      <th>DAYS_EMPLOYED</th>\n",
       "      <th>FLAG_MOBIL</th>\n",
       "      <th>FLAG_WORK_PHONE</th>\n",
       "      <th>FLAG_PHONE</th>\n",
       "      <th>FLAG_EMAIL</th>\n",
       "      <th>OCCUPATION_TYPE</th>\n",
       "      <th>CNT_FAM_MEMBERS</th>\n",
       "      <th>MONTHS_BALANCE</th>\n",
       "      <th>STATUS</th>\n",
       "    </tr>\n",
       "  </thead>\n",
       "  <tbody>\n",
       "    <tr>\n",
       "      <th>0</th>\n",
       "      <td>5008804</td>\n",
       "      <td>M</td>\n",
       "      <td>Y</td>\n",
       "      <td>Y</td>\n",
       "      <td>0.0</td>\n",
       "      <td>427500.0</td>\n",
       "      <td>Working</td>\n",
       "      <td>Higher education</td>\n",
       "      <td>Civil marriage</td>\n",
       "      <td>Rented apartment</td>\n",
       "      <td>-12005.0</td>\n",
       "      <td>-4542.0</td>\n",
       "      <td>1.0</td>\n",
       "      <td>1.0</td>\n",
       "      <td>0.0</td>\n",
       "      <td>0.0</td>\n",
       "      <td>NaN</td>\n",
       "      <td>2.0</td>\n",
       "      <td>0.0</td>\n",
       "      <td>C</td>\n",
       "    </tr>\n",
       "    <tr>\n",
       "      <th>1</th>\n",
       "      <td>5008804</td>\n",
       "      <td>M</td>\n",
       "      <td>Y</td>\n",
       "      <td>Y</td>\n",
       "      <td>0.0</td>\n",
       "      <td>427500.0</td>\n",
       "      <td>Working</td>\n",
       "      <td>Higher education</td>\n",
       "      <td>Civil marriage</td>\n",
       "      <td>Rented apartment</td>\n",
       "      <td>-12005.0</td>\n",
       "      <td>-4542.0</td>\n",
       "      <td>1.0</td>\n",
       "      <td>1.0</td>\n",
       "      <td>0.0</td>\n",
       "      <td>0.0</td>\n",
       "      <td>NaN</td>\n",
       "      <td>2.0</td>\n",
       "      <td>-1.0</td>\n",
       "      <td>C</td>\n",
       "    </tr>\n",
       "    <tr>\n",
       "      <th>2</th>\n",
       "      <td>5008804</td>\n",
       "      <td>M</td>\n",
       "      <td>Y</td>\n",
       "      <td>Y</td>\n",
       "      <td>0.0</td>\n",
       "      <td>427500.0</td>\n",
       "      <td>Working</td>\n",
       "      <td>Higher education</td>\n",
       "      <td>Civil marriage</td>\n",
       "      <td>Rented apartment</td>\n",
       "      <td>-12005.0</td>\n",
       "      <td>-4542.0</td>\n",
       "      <td>1.0</td>\n",
       "      <td>1.0</td>\n",
       "      <td>0.0</td>\n",
       "      <td>0.0</td>\n",
       "      <td>NaN</td>\n",
       "      <td>2.0</td>\n",
       "      <td>-2.0</td>\n",
       "      <td>C</td>\n",
       "    </tr>\n",
       "    <tr>\n",
       "      <th>3</th>\n",
       "      <td>5008804</td>\n",
       "      <td>M</td>\n",
       "      <td>Y</td>\n",
       "      <td>Y</td>\n",
       "      <td>0.0</td>\n",
       "      <td>427500.0</td>\n",
       "      <td>Working</td>\n",
       "      <td>Higher education</td>\n",
       "      <td>Civil marriage</td>\n",
       "      <td>Rented apartment</td>\n",
       "      <td>-12005.0</td>\n",
       "      <td>-4542.0</td>\n",
       "      <td>1.0</td>\n",
       "      <td>1.0</td>\n",
       "      <td>0.0</td>\n",
       "      <td>0.0</td>\n",
       "      <td>NaN</td>\n",
       "      <td>2.0</td>\n",
       "      <td>-3.0</td>\n",
       "      <td>C</td>\n",
       "    </tr>\n",
       "    <tr>\n",
       "      <th>4</th>\n",
       "      <td>5008804</td>\n",
       "      <td>M</td>\n",
       "      <td>Y</td>\n",
       "      <td>Y</td>\n",
       "      <td>0.0</td>\n",
       "      <td>427500.0</td>\n",
       "      <td>Working</td>\n",
       "      <td>Higher education</td>\n",
       "      <td>Civil marriage</td>\n",
       "      <td>Rented apartment</td>\n",
       "      <td>-12005.0</td>\n",
       "      <td>-4542.0</td>\n",
       "      <td>1.0</td>\n",
       "      <td>1.0</td>\n",
       "      <td>0.0</td>\n",
       "      <td>0.0</td>\n",
       "      <td>NaN</td>\n",
       "      <td>2.0</td>\n",
       "      <td>-4.0</td>\n",
       "      <td>C</td>\n",
       "    </tr>\n",
       "  </tbody>\n",
       "</table>\n",
       "</div>"
      ],
      "text/plain": [
       "        ID CODE_GENDER FLAG_OWN_CAR FLAG_OWN_REALTY  CNT_CHILDREN  \\\n",
       "0  5008804           M            Y               Y           0.0   \n",
       "1  5008804           M            Y               Y           0.0   \n",
       "2  5008804           M            Y               Y           0.0   \n",
       "3  5008804           M            Y               Y           0.0   \n",
       "4  5008804           M            Y               Y           0.0   \n",
       "\n",
       "   AMT_INCOME_TOTAL NAME_INCOME_TYPE NAME_EDUCATION_TYPE NAME_FAMILY_STATUS  \\\n",
       "0          427500.0          Working    Higher education     Civil marriage   \n",
       "1          427500.0          Working    Higher education     Civil marriage   \n",
       "2          427500.0          Working    Higher education     Civil marriage   \n",
       "3          427500.0          Working    Higher education     Civil marriage   \n",
       "4          427500.0          Working    Higher education     Civil marriage   \n",
       "\n",
       "  NAME_HOUSING_TYPE  DAYS_BIRTH  DAYS_EMPLOYED  FLAG_MOBIL  FLAG_WORK_PHONE  \\\n",
       "0  Rented apartment    -12005.0        -4542.0         1.0              1.0   \n",
       "1  Rented apartment    -12005.0        -4542.0         1.0              1.0   \n",
       "2  Rented apartment    -12005.0        -4542.0         1.0              1.0   \n",
       "3  Rented apartment    -12005.0        -4542.0         1.0              1.0   \n",
       "4  Rented apartment    -12005.0        -4542.0         1.0              1.0   \n",
       "\n",
       "   FLAG_PHONE  FLAG_EMAIL OCCUPATION_TYPE  CNT_FAM_MEMBERS  MONTHS_BALANCE  \\\n",
       "0         0.0         0.0             NaN              2.0             0.0   \n",
       "1         0.0         0.0             NaN              2.0            -1.0   \n",
       "2         0.0         0.0             NaN              2.0            -2.0   \n",
       "3         0.0         0.0             NaN              2.0            -3.0   \n",
       "4         0.0         0.0             NaN              2.0            -4.0   \n",
       "\n",
       "  STATUS  \n",
       "0      C  \n",
       "1      C  \n",
       "2      C  \n",
       "3      C  \n",
       "4      C  "
      ]
     },
     "execution_count": 4,
     "metadata": {},
     "output_type": "execute_result"
    }
   ],
   "source": [
    "# perform inner join on ID column\n",
    "df = pd.merge(df1, df2, on='ID', how='outer')\n",
    "\n",
    "# print shape of df\n",
    "print(\"The shape of df:\", df.shape)\n",
    "\n",
    "df.head()"
   ]
  },
  {
   "cell_type": "markdown",
   "id": "6a383db5",
   "metadata": {},
   "source": [
    "##### Annotate the DataFrame"
   ]
  },
  {
   "cell_type": "markdown",
   "id": "e2abd3ad",
   "metadata": {},
   "source": [
    "The merged DataFrame does not have any lables. Therefore, we annotate this dataframe using the following rationale: Customers with status 0-5 are typically considered bad for banks as they represent delinquent loans (Deny), indicating that the borrower is struggling to make timely payments. Customers with status C (Approve) are good for banks as they represent loans that have been paid off in full for the month , indicating responsible borrowing behavior. Customers with status X (Approve) have no loan for the month and do not affect the bank's risk. However, in the real world, more robust strategies must be employed based on expert opinion to annotate the labels."
   ]
  },
  {
   "cell_type": "code",
   "execution_count": 5,
   "id": "b812d26e",
   "metadata": {},
   "outputs": [
    {
     "data": {
      "text/html": [
       "<div>\n",
       "<style scoped>\n",
       "    .dataframe tbody tr th:only-of-type {\n",
       "        vertical-align: middle;\n",
       "    }\n",
       "\n",
       "    .dataframe tbody tr th {\n",
       "        vertical-align: top;\n",
       "    }\n",
       "\n",
       "    .dataframe thead th {\n",
       "        text-align: right;\n",
       "    }\n",
       "</style>\n",
       "<table border=\"1\" class=\"dataframe\">\n",
       "  <thead>\n",
       "    <tr style=\"text-align: right;\">\n",
       "      <th></th>\n",
       "      <th>ID</th>\n",
       "      <th>CODE_GENDER</th>\n",
       "      <th>FLAG_OWN_CAR</th>\n",
       "      <th>FLAG_OWN_REALTY</th>\n",
       "      <th>CNT_CHILDREN</th>\n",
       "      <th>AMT_INCOME_TOTAL</th>\n",
       "      <th>NAME_INCOME_TYPE</th>\n",
       "      <th>NAME_EDUCATION_TYPE</th>\n",
       "      <th>NAME_FAMILY_STATUS</th>\n",
       "      <th>NAME_HOUSING_TYPE</th>\n",
       "      <th>DAYS_BIRTH</th>\n",
       "      <th>DAYS_EMPLOYED</th>\n",
       "      <th>FLAG_MOBIL</th>\n",
       "      <th>FLAG_WORK_PHONE</th>\n",
       "      <th>FLAG_PHONE</th>\n",
       "      <th>FLAG_EMAIL</th>\n",
       "      <th>OCCUPATION_TYPE</th>\n",
       "      <th>CNT_FAM_MEMBERS</th>\n",
       "      <th>MONTHS_BALANCE</th>\n",
       "      <th>STATUS</th>\n",
       "    </tr>\n",
       "  </thead>\n",
       "  <tbody>\n",
       "    <tr>\n",
       "      <th>0</th>\n",
       "      <td>5008804</td>\n",
       "      <td>M</td>\n",
       "      <td>Y</td>\n",
       "      <td>Y</td>\n",
       "      <td>0.0</td>\n",
       "      <td>427500.0</td>\n",
       "      <td>Working</td>\n",
       "      <td>Higher education</td>\n",
       "      <td>Civil marriage</td>\n",
       "      <td>Rented apartment</td>\n",
       "      <td>-12005.0</td>\n",
       "      <td>-4542.0</td>\n",
       "      <td>1.0</td>\n",
       "      <td>1.0</td>\n",
       "      <td>0.0</td>\n",
       "      <td>0.0</td>\n",
       "      <td>NaN</td>\n",
       "      <td>2.0</td>\n",
       "      <td>0.0</td>\n",
       "      <td>1.0</td>\n",
       "    </tr>\n",
       "    <tr>\n",
       "      <th>1</th>\n",
       "      <td>5008804</td>\n",
       "      <td>M</td>\n",
       "      <td>Y</td>\n",
       "      <td>Y</td>\n",
       "      <td>0.0</td>\n",
       "      <td>427500.0</td>\n",
       "      <td>Working</td>\n",
       "      <td>Higher education</td>\n",
       "      <td>Civil marriage</td>\n",
       "      <td>Rented apartment</td>\n",
       "      <td>-12005.0</td>\n",
       "      <td>-4542.0</td>\n",
       "      <td>1.0</td>\n",
       "      <td>1.0</td>\n",
       "      <td>0.0</td>\n",
       "      <td>0.0</td>\n",
       "      <td>NaN</td>\n",
       "      <td>2.0</td>\n",
       "      <td>-1.0</td>\n",
       "      <td>1.0</td>\n",
       "    </tr>\n",
       "    <tr>\n",
       "      <th>2</th>\n",
       "      <td>5008804</td>\n",
       "      <td>M</td>\n",
       "      <td>Y</td>\n",
       "      <td>Y</td>\n",
       "      <td>0.0</td>\n",
       "      <td>427500.0</td>\n",
       "      <td>Working</td>\n",
       "      <td>Higher education</td>\n",
       "      <td>Civil marriage</td>\n",
       "      <td>Rented apartment</td>\n",
       "      <td>-12005.0</td>\n",
       "      <td>-4542.0</td>\n",
       "      <td>1.0</td>\n",
       "      <td>1.0</td>\n",
       "      <td>0.0</td>\n",
       "      <td>0.0</td>\n",
       "      <td>NaN</td>\n",
       "      <td>2.0</td>\n",
       "      <td>-2.0</td>\n",
       "      <td>1.0</td>\n",
       "    </tr>\n",
       "    <tr>\n",
       "      <th>3</th>\n",
       "      <td>5008804</td>\n",
       "      <td>M</td>\n",
       "      <td>Y</td>\n",
       "      <td>Y</td>\n",
       "      <td>0.0</td>\n",
       "      <td>427500.0</td>\n",
       "      <td>Working</td>\n",
       "      <td>Higher education</td>\n",
       "      <td>Civil marriage</td>\n",
       "      <td>Rented apartment</td>\n",
       "      <td>-12005.0</td>\n",
       "      <td>-4542.0</td>\n",
       "      <td>1.0</td>\n",
       "      <td>1.0</td>\n",
       "      <td>0.0</td>\n",
       "      <td>0.0</td>\n",
       "      <td>NaN</td>\n",
       "      <td>2.0</td>\n",
       "      <td>-3.0</td>\n",
       "      <td>1.0</td>\n",
       "    </tr>\n",
       "    <tr>\n",
       "      <th>4</th>\n",
       "      <td>5008804</td>\n",
       "      <td>M</td>\n",
       "      <td>Y</td>\n",
       "      <td>Y</td>\n",
       "      <td>0.0</td>\n",
       "      <td>427500.0</td>\n",
       "      <td>Working</td>\n",
       "      <td>Higher education</td>\n",
       "      <td>Civil marriage</td>\n",
       "      <td>Rented apartment</td>\n",
       "      <td>-12005.0</td>\n",
       "      <td>-4542.0</td>\n",
       "      <td>1.0</td>\n",
       "      <td>1.0</td>\n",
       "      <td>0.0</td>\n",
       "      <td>0.0</td>\n",
       "      <td>NaN</td>\n",
       "      <td>2.0</td>\n",
       "      <td>-4.0</td>\n",
       "      <td>1.0</td>\n",
       "    </tr>\n",
       "  </tbody>\n",
       "</table>\n",
       "</div>"
      ],
      "text/plain": [
       "        ID CODE_GENDER FLAG_OWN_CAR FLAG_OWN_REALTY  CNT_CHILDREN  \\\n",
       "0  5008804           M            Y               Y           0.0   \n",
       "1  5008804           M            Y               Y           0.0   \n",
       "2  5008804           M            Y               Y           0.0   \n",
       "3  5008804           M            Y               Y           0.0   \n",
       "4  5008804           M            Y               Y           0.0   \n",
       "\n",
       "   AMT_INCOME_TOTAL NAME_INCOME_TYPE NAME_EDUCATION_TYPE NAME_FAMILY_STATUS  \\\n",
       "0          427500.0          Working    Higher education     Civil marriage   \n",
       "1          427500.0          Working    Higher education     Civil marriage   \n",
       "2          427500.0          Working    Higher education     Civil marriage   \n",
       "3          427500.0          Working    Higher education     Civil marriage   \n",
       "4          427500.0          Working    Higher education     Civil marriage   \n",
       "\n",
       "  NAME_HOUSING_TYPE  DAYS_BIRTH  DAYS_EMPLOYED  FLAG_MOBIL  FLAG_WORK_PHONE  \\\n",
       "0  Rented apartment    -12005.0        -4542.0         1.0              1.0   \n",
       "1  Rented apartment    -12005.0        -4542.0         1.0              1.0   \n",
       "2  Rented apartment    -12005.0        -4542.0         1.0              1.0   \n",
       "3  Rented apartment    -12005.0        -4542.0         1.0              1.0   \n",
       "4  Rented apartment    -12005.0        -4542.0         1.0              1.0   \n",
       "\n",
       "   FLAG_PHONE  FLAG_EMAIL OCCUPATION_TYPE  CNT_FAM_MEMBERS  MONTHS_BALANCE  \\\n",
       "0         0.0         0.0             NaN              2.0             0.0   \n",
       "1         0.0         0.0             NaN              2.0            -1.0   \n",
       "2         0.0         0.0             NaN              2.0            -2.0   \n",
       "3         0.0         0.0             NaN              2.0            -3.0   \n",
       "4         0.0         0.0             NaN              2.0            -4.0   \n",
       "\n",
       "   STATUS  \n",
       "0     1.0  \n",
       "1     1.0  \n",
       "2     1.0  \n",
       "3     1.0  \n",
       "4     1.0  "
      ]
     },
     "execution_count": 5,
     "metadata": {},
     "output_type": "execute_result"
    }
   ],
   "source": [
    "# Define a function to map the status values to the 3 categories\n",
    "def map_status(STATUS):\n",
    "    if STATUS in ['0', '1', '2', '3', '4', '5']:\n",
    "        return 0 # Deny\n",
    "    elif STATUS in ['C', 'X']:\n",
    "        return 1 # Approve\n",
    "    else:\n",
    "        return np.nan\n",
    "\n",
    "# Replace the status column with the mapped values\n",
    "df[\"STATUS\"] = df[\"STATUS\"].apply(map_status)\n",
    "\n",
    "df.head()"
   ]
  },
  {
   "cell_type": "markdown",
   "id": "aeddd64e",
   "metadata": {},
   "source": [
    "##### Feature Engineering"
   ]
  },
  {
   "cell_type": "markdown",
   "id": "0dd29436",
   "metadata": {},
   "source": [
    "Feature engineering is the process of creating new features from existing ones. This can be done by combining, transforming, or extracting information from features. Novel features can improve the performance of machine learning models by capturing nonlinear relationships, incorporating domain knowledge, or extracting information from text or categorical features. In this sub-section, some useful features are extracted to improve the performance of predictive modeling, however, these features did not significantly affect the ML model performance. Therefore, the engineered feautures are not used in the final model."
   ]
  },
  {
   "cell_type": "code",
   "execution_count": 6,
   "id": "6d95d8cf",
   "metadata": {},
   "outputs": [],
   "source": [
    "# engineering novel meaningful features from avaialble features\n",
    "\n",
    "# Count of children to count of family members ratio\n",
    "# df['CNT_CHILDREN_TO_CNT_FAM_MEMBERS_RATIO'] = df['CNT_CHILDREN'] / df['CNT_FAM_MEMBERS']\n",
    "\n",
    "# Income per family member\n",
    "# df['INCOME_PER_FAMILIY_MEMBER_RATIO'] = df['AMT_INCOME_TOTAL'] / df['CNT_FAM_MEMBERS']\n",
    "\n",
    "# Employment stability\n",
    "# df['EMPLOYMENT_STABILITY_RATIO'] = df['DAYS_EMPLOYED'] / df['DAYS_BIRTH']"
   ]
  },
  {
   "cell_type": "markdown",
   "id": "21e65db0",
   "metadata": {},
   "source": [
    "##### Feature Recognition"
   ]
  },
  {
   "cell_type": "markdown",
   "id": "49d22459",
   "metadata": {},
   "source": [
    "This sub-section aims to improve the feature recognition process. It involves:\n",
    "\n",
    " 1. Identifying the target feature - The feature that the model aims to predict.\n",
    " \n",
    " <br>\n",
    " \n",
    " 2. Grouping input features - The input features are grouped into different categories based on their data type or characteristics, including:\n",
    "\n",
    "   - All features: inlcludes all the input features\n",
    "   \n",
    "   - Numeric features: features that represent numerical values such as age, price, days, etc.  \n",
    "   \n",
    "   - Categorical features: features that represent discrete values such as make, policy type, marital status, etc.\n",
    "   \n",
    "   Moreover, numeric and categorical features can further be broke down as follows:\n",
    "   \n",
    "       - Continuous numeric features: features that are continous in nature.\n",
    "    \n",
    "       - Binary features: features that represent only two possible values such as police report filed, witness present, etc.\n",
    "\n",
    "       - Ordinal features: categorical features that have a natural order such as driver rating.\n",
    "\n",
    "       - Nominal features: categorical features that have no natural order such as make, agent type, etc.\n",
    "\n",
    "       - High cardinality features: categorical features that have a large number of unique values such as policy number.\n",
    "    \n",
    "By grouping the features into different categories, it can help to identify which features may require additional preprocessing or encoding to be used effectively in a model. It can also help to guide the feature engineering process and the feature selection process."
   ]
  },
  {
   "cell_type": "code",
   "execution_count": 7,
   "id": "bfc6f741",
   "metadata": {},
   "outputs": [
    {
     "name": "stdout",
     "output_type": "stream",
     "text": [
      "Target Feature: \n",
      " STATUS\n",
      "\n",
      "All Features: \n",
      " ['ID', 'CODE_GENDER', 'FLAG_OWN_CAR', 'FLAG_OWN_REALTY', 'CNT_CHILDREN', 'AMT_INCOME_TOTAL', 'NAME_INCOME_TYPE', 'NAME_EDUCATION_TYPE', 'NAME_FAMILY_STATUS', 'NAME_HOUSING_TYPE', 'DAYS_BIRTH', 'DAYS_EMPLOYED', 'FLAG_MOBIL', 'FLAG_WORK_PHONE', 'FLAG_PHONE', 'FLAG_EMAIL', 'OCCUPATION_TYPE', 'CNT_FAM_MEMBERS', 'MONTHS_BALANCE', 'STATUS']\n",
      "\n",
      "Numeric Features: \n",
      " ['ID', 'CNT_CHILDREN', 'AMT_INCOME_TOTAL', 'DAYS_BIRTH', 'DAYS_EMPLOYED', 'FLAG_MOBIL', 'FLAG_WORK_PHONE', 'FLAG_PHONE', 'FLAG_EMAIL', 'CNT_FAM_MEMBERS', 'MONTHS_BALANCE', 'STATUS']\n",
      "\n",
      "Categorical Features: \n",
      " ['CODE_GENDER', 'FLAG_OWN_CAR', 'FLAG_OWN_REALTY', 'NAME_INCOME_TYPE', 'NAME_EDUCATION_TYPE', 'NAME_FAMILY_STATUS', 'NAME_HOUSING_TYPE', 'OCCUPATION_TYPE']\n",
      "\n",
      "Continuous Numeric Features: \n",
      " ['AMT_INCOME_TOTAL', 'DAYS_BIRTH', 'DAYS_EMPLOYED']\n",
      "\n",
      "Binary Features: \n",
      " ['CODE_GENDER', 'FLAG_OWN_CAR', 'FLAG_OWN_REALTY', 'FLAG_MOBIL', 'FLAG_WORK_PHONE', 'FLAG_PHONE', 'FLAG_EMAIL']\n",
      "\n",
      "Ordinal Features: \n",
      " []\n",
      "\n",
      "Nominal Features:  ['NAME_INCOME_TYPE', 'NAME_EDUCATION_TYPE', 'NAME_FAMILY_STATUS', 'NAME_HOUSING_TYPE']\n",
      "\n",
      "High cardinality features:  ['OCCUPATION_TYPE']\n",
      "\n"
     ]
    }
   ],
   "source": [
    "# -----TARGET SELECTION-----\n",
    "\n",
    "# Output Feature\n",
    "target_feature = \"STATUS\"\n",
    "print(\"Target Feature: \\n\", target_feature)\n",
    "print()\n",
    "\n",
    "\n",
    "\n",
    "# -----INPUT FEATURE RECOGNITION-----\n",
    "\n",
    "\n",
    "# -----all features-----\n",
    "all_features = df.columns.to_list()\n",
    "print('All Features: \\n', all_features)\n",
    "print()\n",
    "\n",
    "\n",
    "# -----numeric features-----\n",
    "numeric_features = [feature for feature in df.columns if df[feature].dtype != 'object' and df[feature].dtype !='datetime64[ns]']\n",
    "print('Numeric Features: \\n', numeric_features)\n",
    "print()\n",
    "\n",
    "\n",
    "# -----categorical features-----\n",
    "categorical_features = [feature for feature in df.columns if df[feature].dtype == 'object']\n",
    "print('Categorical Features: \\n', categorical_features)\n",
    "print()\n",
    "\n",
    "\n",
    "# -----contionus numieric features-----\n",
    "continuous_numeric_features = ['AMT_INCOME_TOTAL', 'DAYS_BIRTH', 'DAYS_EMPLOYED']\n",
    "print('Continuous Numeric Features: \\n', continuous_numeric_features)\n",
    "print()\n",
    "\n",
    "\n",
    "# -----binary features-----\n",
    "binary_features = ['CODE_GENDER', 'FLAG_OWN_CAR', 'FLAG_OWN_REALTY', 'FLAG_MOBIL', \n",
    "                   'FLAG_WORK_PHONE', 'FLAG_PHONE', 'FLAG_EMAIL']\n",
    "df[binary_features] = df[binary_features].astype('object')\n",
    "print('Binary Features: \\n', binary_features)\n",
    "print()\n",
    "\n",
    "\n",
    "# -----ordinal features-----\n",
    "ordinal_features = []\n",
    "print('Ordinal Features: \\n', ordinal_features)\n",
    "print()\n",
    "\n",
    "\n",
    "# -----nominal features-----\n",
    "nominal_features = ['NAME_INCOME_TYPE', 'NAME_EDUCATION_TYPE', 'NAME_FAMILY_STATUS', 'NAME_HOUSING_TYPE']\n",
    "print('Nominal Features: ', nominal_features)\n",
    "print()\n",
    "\n",
    "\n",
    "# -----high cardinality features-----\n",
    "\n",
    "# Set the threshold for high cardinality\n",
    "threshold = 7\n",
    "\n",
    "# Calculate the number of unique values in each column\n",
    "cardinality = df[categorical_features].nunique()\n",
    "\n",
    "# Select the columns where the number of unique values is greater than the threshold\n",
    "high_cardinality_features = cardinality[cardinality > threshold].index.tolist()\n",
    "\n",
    "print('High cardinality features: ', high_cardinality_features)\n",
    "print()"
   ]
  },
  {
   "cell_type": "markdown",
   "id": "290fc61b",
   "metadata": {},
   "source": [
    "##### Data Cleaning"
   ]
  },
  {
   "cell_type": "markdown",
   "id": "4e3ecd8a",
   "metadata": {},
   "source": [
    "Data cleaning is the process of identifying and correcting or removing errors, inconsistencies, and other issues in a dataset. It is an essential step in data preprocessing before analysis or modeling. In this project, we clean the data before data splitting because it helps to ensure that the training, validation, and test sets are representative of the underlying population and are not biased or skewed by errors or inconsistencies in the data."
   ]
  },
  {
   "cell_type": "code",
   "execution_count": 8,
   "id": "208ad2ed",
   "metadata": {},
   "outputs": [
    {
     "name": "stdout",
     "output_type": "stream",
     "text": [
      "The shape of the df : (1450675, 20)\n",
      "\n",
      "The smissing values in the df :\n",
      "ID                          0\n",
      "CODE_GENDER            270860\n",
      "FLAG_OWN_CAR           270860\n",
      "FLAG_OWN_REALTY        270860\n",
      "CNT_CHILDREN           270860\n",
      "AMT_INCOME_TOTAL       270860\n",
      "NAME_INCOME_TYPE       270860\n",
      "NAME_EDUCATION_TYPE    270860\n",
      "NAME_FAMILY_STATUS     270860\n",
      "NAME_HOUSING_TYPE      270860\n",
      "DAYS_BIRTH             270860\n",
      "DAYS_EMPLOYED          270860\n",
      "FLAG_MOBIL             270860\n",
      "FLAG_WORK_PHONE        270860\n",
      "FLAG_PHONE             270860\n",
      "FLAG_EMAIL             270860\n",
      "OCCUPATION_TYPE        633788\n",
      "CNT_FAM_MEMBERS        270860\n",
      "MONTHS_BALANCE         402100\n",
      "STATUS                 402100\n",
      "dtype: int64\n"
     ]
    }
   ],
   "source": [
    "# print the shape of the df\n",
    "print(\"The shape of the df :\", df.shape)\n",
    "print()\n",
    "\n",
    "# find missing values by column\n",
    "print(\"The smissing values in the df :\")\n",
    "print(df.isnull().sum())"
   ]
  },
  {
   "cell_type": "markdown",
   "id": "c4384bf0",
   "metadata": {},
   "source": [
    "During data cleaning, missing data is typically handled through data imputation techniques such as replacing missing values with the mean, median, or mode of the corresponding feature. However, in our case, the missing data is systemic for a large proportion of the records in the dataset. Therefore, we discard the missing data before moving to the next stage. Additionally, we remove the ID feature as it is not a useful for credit card approval prediction for new customers."
   ]
  },
  {
   "cell_type": "code",
   "execution_count": 9,
   "id": "c664e397",
   "metadata": {},
   "outputs": [
    {
     "name": "stdout",
     "output_type": "stream",
     "text": [
      "The shape of the cleaned df : (777715, 18)\n",
      "\n"
     ]
    }
   ],
   "source": [
    "# remove rows with missing values for the specified columns\n",
    "df = df.dropna(subset= ['STATUS', 'CODE_GENDER'])\n",
    "\n",
    "# remove Occupation Type column because it has many missing values\n",
    "df = df.drop(columns = ['OCCUPATION_TYPE'])\n",
    "\n",
    "# remove ID as it is not useful for credit card approval prediction for new customers\n",
    "df = df.drop(columns = ['ID'])\n",
    "\n",
    "# print the shape of the df\n",
    "print(\"The shape of the cleaned df :\", df.shape)\n",
    "print()"
   ]
  },
  {
   "cell_type": "code",
   "execution_count": 10,
   "id": "f005e916",
   "metadata": {},
   "outputs": [
    {
     "name": "stdout",
     "output_type": "stream",
     "text": [
      "CODE_GENDER            0\n",
      "FLAG_OWN_CAR           0\n",
      "FLAG_OWN_REALTY        0\n",
      "CNT_CHILDREN           0\n",
      "AMT_INCOME_TOTAL       0\n",
      "NAME_INCOME_TYPE       0\n",
      "NAME_EDUCATION_TYPE    0\n",
      "NAME_FAMILY_STATUS     0\n",
      "NAME_HOUSING_TYPE      0\n",
      "DAYS_BIRTH             0\n",
      "DAYS_EMPLOYED          0\n",
      "FLAG_MOBIL             0\n",
      "FLAG_WORK_PHONE        0\n",
      "FLAG_PHONE             0\n",
      "FLAG_EMAIL             0\n",
      "CNT_FAM_MEMBERS        0\n",
      "MONTHS_BALANCE         0\n",
      "STATUS                 0\n",
      "dtype: int64\n"
     ]
    }
   ],
   "source": [
    "print(df.isnull().sum())"
   ]
  },
  {
   "cell_type": "markdown",
   "id": "1bc42182",
   "metadata": {},
   "source": [
    "### 3.4 Exploratory Data Analysis"
   ]
  },
  {
   "cell_type": "markdown",
   "id": "c6c3b9a8",
   "metadata": {},
   "source": [
    "Exploratory Data Analysis (EDA) plays a crucial role in enhancing the performance of machine learning models. It helps in identifying errors, detecting patterns, selecting relevant features, and improving model accuracy. In this section, graphical charts are are created for critical features. This step provides essential insights into the data and assists in making informed decisions for the subsequent stages of the model development process."
   ]
  },
  {
   "cell_type": "code",
   "execution_count": 37,
   "id": "055a8a11",
   "metadata": {
    "scrolled": false
   },
   "outputs": [
    {
     "data": {
      "image/png": "[encoded data removed]"
     },
     "metadata": {},
     "output_type": "display_data"
    },
    {
     "data": {
      "image/png": "[encoded data removed]"
     },
     "metadata": {},
     "output_type": "display_data"
    },
    {
     "data": {
      "image/png": "[encoded data removed]"
     },
     "metadata": {},
     "output_type": "display_data"
    },
    {
     "data": {
      "image/png": "[encoded data removed]"
     },
     "metadata": {},
     "output_type": "display_data"
    },
    {
     "data": {
      "application/vnd.plotly.v1+json": {
       "config": {
        "plotlyServerURL": "https://plot.ly"
       },
       "data": [
        {
         "domain": {
          "x": [
           0,
           1
          ],
          "y": [
           0,
           1
          ]
         },
         "hovertemplate": "label=%{label}<br>value=%{value}<extra></extra>",
         "labels": [
          0,
          1
         ],
         "legendgroup": "",
         "name": "",
         "showlegend": true,
         "type": "pie",
         "values": [
          302229,
          475486
         ]
        }
       ],
       "layout": {
        "height": 400,
        "legend": {
         "tracegroupgap": 0
        },
        "margin": {
         "t": 60
        },
        "template": {
         "data": {
          "bar": [
           {
            "error_x": {
             "color": "#2a3f5f"
            },
            "error_y": {
             "color": "#2a3f5f"
            },
            "marker": {
             "line": {
              "color": "#E5ECF6",
              "width": 0.5
             },
             "pattern": {
              "fillmode": "overlay",
              "size": 10,
              "solidity": 0.2
             }
            },
            "type": "bar"
           }
          ],
          "barpolar": [
           {
            "marker": {
             "line": {
              "color": "#E5ECF6",
              "width": 0.5
             },
             "pattern": {
              "fillmode": "overlay",
              "size": 10,
              "solidity": 0.2
             }
            },
            "type": "barpolar"
           }
          ],
          "carpet": [
           {
            "aaxis": {
             "endlinecolor": "#2a3f5f",
             "gridcolor": "white",
             "linecolor": "white",
             "minorgridcolor": "white",
             "startlinecolor": "#2a3f5f"
            },
            "baxis": {
             "endlinecolor": "#2a3f5f",
             "gridcolor": "white",
             "linecolor": "white",
             "minorgridcolor": "white",
             "startlinecolor": "#2a3f5f"
            },
            "type": "carpet"
           }
          ],
          "choropleth": [
           {
            "colorbar": {
             "outlinewidth": 0,
             "ticks": ""
            },
            "type": "choropleth"
           }
          ],
          "contour": [
           {
            "colorbar": {
             "outlinewidth": 0,
             "ticks": ""
            },
            "colorscale": [
             [
              0,
              "#0d0887"
             ],
             [
              0.1111111111111111,
              "#46039f"
             ],
             [
              0.2222222222222222,
              "#7201a8"
             ],
             [
              0.3333333333333333,
              "#9c179e"
             ],
             [
              0.4444444444444444,
              "#bd3786"
             ],
             [
              0.5555555555555556,
              "#d8576b"
             ],
             [
              0.6666666666666666,
              "#ed7953"
             ],
             [
              0.7777777777777778,
              "#fb9f3a"
             ],
             [
              0.8888888888888888,
              "#fdca26"
             ],
             [
              1,
              "#f0f921"
             ]
            ],
            "type": "contour"
           }
          ],
          "contourcarpet": [
           {
            "colorbar": {
             "outlinewidth": 0,
             "ticks": ""
            },
            "type": "contourcarpet"
           }
          ],
          "heatmap": [
           {
            "colorbar": {
             "outlinewidth": 0,
             "ticks": ""
            },
            "colorscale": [
             [
              0,
              "#0d0887"
             ],
             [
              0.1111111111111111,
              "#46039f"
             ],
             [
              0.2222222222222222,
              "#7201a8"
             ],
             [
              0.3333333333333333,
              "#9c179e"
             ],
             [
              0.4444444444444444,
              "#bd3786"
             ],
             [
              0.5555555555555556,
              "#d8576b"
             ],
             [
              0.6666666666666666,
              "#ed7953"
             ],
             [
              0.7777777777777778,
              "#fb9f3a"
             ],
             [
              0.8888888888888888,
              "#fdca26"
             ],
             [
              1,
              "#f0f921"
             ]
            ],
            "type": "heatmap"
           }
          ],
          "heatmapgl": [
           {
            "colorbar": {
             "outlinewidth": 0,
             "ticks": ""
            },
            "colorscale": [
             [
              0,
              "#0d0887"
             ],
             [
              0.1111111111111111,
              "#46039f"
             ],
             [
              0.2222222222222222,
              "#7201a8"
             ],
             [
              0.3333333333333333,
              "#9c179e"
             ],
             [
              0.4444444444444444,
              "#bd3786"
             ],
             [
              0.5555555555555556,
              "#d8576b"
             ],
             [
              0.6666666666666666,
              "#ed7953"
             ],
             [
              0.7777777777777778,
              "#fb9f3a"
             ],
             [
              0.8888888888888888,
              "#fdca26"
             ],
             [
              1,
              "#f0f921"
             ]
            ],
            "type": "heatmapgl"
           }
          ],
          "histogram": [
           {
            "marker": {
             "pattern": {
              "fillmode": "overlay",
              "size": 10,
              "solidity": 0.2
             }
            },
            "type": "histogram"
           }
          ],
          "histogram2d": [
           {
            "colorbar": {
             "outlinewidth": 0,
             "ticks": ""
            },
            "colorscale": [
             [
              0,
              "#0d0887"
             ],
             [
              0.1111111111111111,
              "#46039f"
             ],
             [
              0.2222222222222222,
              "#7201a8"
             ],
             [
              0.3333333333333333,
              "#9c179e"
             ],
             [
              0.4444444444444444,
              "#bd3786"
             ],
             [
              0.5555555555555556,
              "#d8576b"
             ],
             [
              0.6666666666666666,
              "#ed7953"
             ],
             [
              0.7777777777777778,
              "#fb9f3a"
             ],
             [
              0.8888888888888888,
              "#fdca26"
             ],
             [
              1,
              "#f0f921"
             ]
            ],
            "type": "histogram2d"
           }
          ],
          "histogram2dcontour": [
           {
            "colorbar": {
             "outlinewidth": 0,
             "ticks": ""
            },
            "colorscale": [
             [
              0,
              "#0d0887"
             ],
             [
              0.1111111111111111,
              "#46039f"
             ],
             [
              0.2222222222222222,
              "#7201a8"
             ],
             [
              0.3333333333333333,
              "#9c179e"
             ],
             [
              0.4444444444444444,
              "#bd3786"
             ],
             [
              0.5555555555555556,
              "#d8576b"
             ],
             [
              0.6666666666666666,
              "#ed7953"
             ],
             [
              0.7777777777777778,
              "#fb9f3a"
             ],
             [
              0.8888888888888888,
              "#fdca26"
             ],
             [
              1,
              "#f0f921"
             ]
            ],
            "type": "histogram2dcontour"
           }
          ],
          "mesh3d": [
           {
            "colorbar": {
             "outlinewidth": 0,
             "ticks": ""
            },
            "type": "mesh3d"
           }
          ],
          "parcoords": [
           {
            "line": {
             "colorbar": {
              "outlinewidth": 0,
              "ticks": ""
             }
            },
            "type": "parcoords"
           }
          ],
          "pie": [
           {
            "automargin": true,
            "type": "pie"
           }
          ],
          "scatter": [
           {
            "fillpattern": {
             "fillmode": "overlay",
             "size": 10,
             "solidity": 0.2
            },
            "type": "scatter"
           }
          ],
          "scatter3d": [
           {
            "line": {
             "colorbar": {
              "outlinewidth": 0,
              "ticks": ""
             }
            },
            "marker": {
             "colorbar": {
              "outlinewidth": 0,
              "ticks": ""
             }
            },
            "type": "scatter3d"
           }
          ],
          "scattercarpet": [
           {
            "marker": {
             "colorbar": {
              "outlinewidth": 0,
              "ticks": ""
             }
            },
            "type": "scattercarpet"
           }
          ],
          "scattergeo": [
           {
            "marker": {
             "colorbar": {
              "outlinewidth": 0,
              "ticks": ""
             }
            },
            "type": "scattergeo"
           }
          ],
          "scattergl": [
           {
            "marker": {
             "colorbar": {
              "outlinewidth": 0,
              "ticks": ""
             }
            },
            "type": "scattergl"
           }
          ],
          "scattermapbox": [
           {
            "marker": {
             "colorbar": {
              "outlinewidth": 0,
              "ticks": ""
             }
            },
            "type": "scattermapbox"
           }
          ],
          "scatterpolar": [
           {
            "marker": {
             "colorbar": {
              "outlinewidth": 0,
              "ticks": ""
             }
            },
            "type": "scatterpolar"
           }
          ],
          "scatterpolargl": [
           {
            "marker": {
             "colorbar": {
              "outlinewidth": 0,
              "ticks": ""
             }
            },
            "type": "scatterpolargl"
           }
          ],
          "scatterternary": [
           {
            "marker": {
             "colorbar": {
              "outlinewidth": 0,
              "ticks": ""
             }
            },
            "type": "scatterternary"
           }
          ],
          "surface": [
           {
            "colorbar": {
             "outlinewidth": 0,
             "ticks": ""
            },
            "colorscale": [
             [
              0,
              "#0d0887"
             ],
             [
              0.1111111111111111,
              "#46039f"
             ],
             [
              0.2222222222222222,
              "#7201a8"
             ],
             [
              0.3333333333333333,
              "#9c179e"
             ],
             [
              0.4444444444444444,
              "#bd3786"
             ],
             [
              0.5555555555555556,
              "#d8576b"
             ],
             [
              0.6666666666666666,
              "#ed7953"
             ],
             [
              0.7777777777777778,
              "#fb9f3a"
             ],
             [
              0.8888888888888888,
              "#fdca26"
             ],
             [
              1,
              "#f0f921"
             ]
            ],
            "type": "surface"
           }
          ],
          "table": [
           {
            "cells": {
             "fill": {
              "color": "#EBF0F8"
             },
             "line": {
              "color": "white"
             }
            },
            "header": {
             "fill": {
              "color": "#C8D4E3"
             },
             "line": {
              "color": "white"
             }
            },
            "type": "table"
           }
          ]
         },
         "layout": {
          "annotationdefaults": {
           "arrowcolor": "#2a3f5f",
           "arrowhead": 0,
           "arrowwidth": 1
          },
          "autotypenumbers": "strict",
          "coloraxis": {
           "colorbar": {
            "outlinewidth": 0,
            "ticks": ""
           }
          },
          "colorscale": {
           "diverging": [
            [
             0,
             "#8e0152"
            ],
            [
             0.1,
             "#c51b7d"
            ],
            [
             0.2,
             "#de77ae"
            ],
            [
             0.3,
             "#f1b6da"
            ],
            [
             0.4,
             "#fde0ef"
            ],
            [
             0.5,
             "#f7f7f7"
            ],
            [
             0.6,
             "#e6f5d0"
            ],
            [
             0.7,
             "#b8e186"
            ],
            [
             0.8,
             "#7fbc41"
            ],
            [
             0.9,
             "#4d9221"
            ],
            [
             1,
             "#276419"
            ]
           ],
           "sequential": [
            [
             0,
             "#0d0887"
            ],
            [
             0.1111111111111111,
             "#46039f"
            ],
            [
             0.2222222222222222,
             "#7201a8"
            ],
            [
             0.3333333333333333,
             "#9c179e"
            ],
            [
             0.4444444444444444,
             "#bd3786"
            ],
            [
             0.5555555555555556,
             "#d8576b"
            ],
            [
             0.6666666666666666,
             "#ed7953"
            ],
            [
             0.7777777777777778,
             "#fb9f3a"
            ],
            [
             0.8888888888888888,
             "#fdca26"
            ],
            [
             1,
             "#f0f921"
            ]
           ],
           "sequentialminus": [
            [
             0,
             "#0d0887"
            ],
            [
             0.1111111111111111,
             "#46039f"
            ],
            [
             0.2222222222222222,
             "#7201a8"
            ],
            [
             0.3333333333333333,
             "#9c179e"
            ],
            [
             0.4444444444444444,
             "#bd3786"
            ],
            [
             0.5555555555555556,
             "#d8576b"
            ],
            [
             0.6666666666666666,
             "#ed7953"
            ],
            [
             0.7777777777777778,
             "#fb9f3a"
            ],
            [
             0.8888888888888888,
             "#fdca26"
            ],
            [
             1,
             "#f0f921"
            ]
           ]
          },
          "colorway": [
           "#636efa",
           "#EF553B",
           "#00cc96",
           "#ab63fa",
           "#FFA15A",
           "#19d3f3",
           "#FF6692",
           "#B6E880",
           "#FF97FF",
           "#FECB52"
          ],
          "font": {
           "color": "#2a3f5f"
          },
          "geo": {
           "bgcolor": "white",
           "lakecolor": "white",
           "landcolor": "#E5ECF6",
           "showlakes": true,
           "showland": true,
           "subunitcolor": "white"
          },
          "hoverlabel": {
           "align": "left"
          },
          "hovermode": "closest",
          "mapbox": {
           "style": "light"
          },
          "paper_bgcolor": "white",
          "plot_bgcolor": "#E5ECF6",
          "polar": {
           "angularaxis": {
            "gridcolor": "white",
            "linecolor": "white",
            "ticks": ""
           },
           "bgcolor": "#E5ECF6",
           "radialaxis": {
            "gridcolor": "white",
            "linecolor": "white",
            "ticks": ""
           }
          },
          "scene": {
           "xaxis": {
            "backgroundcolor": "#E5ECF6",
            "gridcolor": "white",
            "gridwidth": 2,
            "linecolor": "white",
            "showbackground": true,
            "ticks": "",
            "zerolinecolor": "white"
           },
           "yaxis": {
            "backgroundcolor": "#E5ECF6",
            "gridcolor": "white",
            "gridwidth": 2,
            "linecolor": "white",
            "showbackground": true,
            "ticks": "",
            "zerolinecolor": "white"
           },
           "zaxis": {
            "backgroundcolor": "#E5ECF6",
            "gridcolor": "white",
            "gridwidth": 2,
            "linecolor": "white",
            "showbackground": true,
            "ticks": "",
            "zerolinecolor": "white"
           }
          },
          "shapedefaults": {
           "line": {
            "color": "#2a3f5f"
           }
          },
          "ternary": {
           "aaxis": {
            "gridcolor": "white",
            "linecolor": "white",
            "ticks": ""
           },
           "baxis": {
            "gridcolor": "white",
            "linecolor": "white",
            "ticks": ""
           },
           "bgcolor": "#E5ECF6",
           "caxis": {
            "gridcolor": "white",
            "linecolor": "white",
            "ticks": ""
           }
          },
          "title": {
           "x": 0.05
          },
          "xaxis": {
           "automargin": true,
           "gridcolor": "white",
           "linecolor": "white",
           "ticks": "",
           "title": {
            "standoff": 15
           },
           "zerolinecolor": "white",
           "zerolinewidth": 2
          },
          "yaxis": {
           "automargin": true,
           "gridcolor": "white",
           "linecolor": "white",
           "ticks": "",
           "title": {
            "standoff": 15
           },
           "zerolinecolor": "white",
           "zerolinewidth": 2
          }
         }
        },
        "title": {
         "text": "Visualizing Data Imbalance in Target Feature"
        },
        "width": 600
       }
      },
      "text/html": [
       "<div>                            <div id=\"dc0c3ead-5666-4b34-8685-de2c67cc5872\" class=\"plotly-graph-div\" style=\"height:400px; width:600px;\"></div>            <script type=\"text/javascript\">                require([\"plotly\"], function(Plotly) {                    window.PLOTLYENV=window.PLOTLYENV || {};                                    if (document.getElementById(\"dc0c3ead-5666-4b34-8685-de2c67cc5872\")) {                    Plotly.newPlot(                        \"dc0c3ead-5666-4b34-8685-de2c67cc5872\",                        [{\"domain\":{\"x\":[0.0,1.0],\"y\":[0.0,1.0]},\"hovertemplate\":\"label=%{label}<br>value=%{value}<extra></extra>\",\"labels\":[0.0,1.0],\"legendgroup\":\"\",\"name\":\"\",\"showlegend\":true,\"values\":[302229,475486],\"type\":\"pie\"}],                        {\"template\":{\"data\":{\"histogram2dcontour\":[{\"type\":\"histogram2dcontour\",\"colorbar\":{\"outlinewidth\":0,\"ticks\":\"\"},\"colorscale\":[[0.0,\"#0d0887\"],[0.1111111111111111,\"#46039f\"],[0.2222222222222222,\"#7201a8\"],[0.3333333333333333,\"#9c179e\"],[0.4444444444444444,\"#bd3786\"],[0.5555555555555556,\"#d8576b\"],[0.6666666666666666,\"#ed7953\"],[0.7777777777777778,\"#fb9f3a\"],[0.8888888888888888,\"#fdca26\"],[1.0,\"#f0f921\"]]}],\"choropleth\":[{\"type\":\"choropleth\",\"colorbar\":{\"outlinewidth\":0,\"ticks\":\"\"}}],\"histogram2d\":[{\"type\":\"histogram2d\",\"colorbar\":{\"outlinewidth\":0,\"ticks\":\"\"},\"colorscale\":[[0.0,\"#0d0887\"],[0.1111111111111111,\"#46039f\"],[0.2222222222222222,\"#7201a8\"],[0.3333333333333333,\"#9c179e\"],[0.4444444444444444,\"#bd3786\"],[0.5555555555555556,\"#d8576b\"],[0.6666666666666666,\"#ed7953\"],[0.7777777777777778,\"#fb9f3a\"],[0.8888888888888888,\"#fdca26\"],[1.0,\"#f0f921\"]]}],\"heatmap\":[{\"type\":\"heatmap\",\"colorbar\":{\"outlinewidth\":0,\"ticks\":\"\"},\"colorscale\":[[0.0,\"#0d0887\"],[0.1111111111111111,\"#46039f\"],[0.2222222222222222,\"#7201a8\"],[0.3333333333333333,\"#9c179e\"],[0.4444444444444444,\"#bd3786\"],[0.5555555555555556,\"#d8576b\"],[0.6666666666666666,\"#ed7953\"],[0.7777777777777778,\"#fb9f3a\"],[0.8888888888888888,\"#fdca26\"],[1.0,\"#f0f921\"]]}],\"heatmapgl\":[{\"type\":\"heatmapgl\",\"colorbar\":{\"outlinewidth\":0,\"ticks\":\"\"},\"colorscale\":[[0.0,\"#0d0887\"],[0.1111111111111111,\"#46039f\"],[0.2222222222222222,\"#7201a8\"],[0.3333333333333333,\"#9c179e\"],[0.4444444444444444,\"#bd3786\"],[0.5555555555555556,\"#d8576b\"],[0.6666666666666666,\"#ed7953\"],[0.7777777777777778,\"#fb9f3a\"],[0.8888888888888888,\"#fdca26\"],[1.0,\"#f0f921\"]]}],\"contourcarpet\":[{\"type\":\"contourcarpet\",\"colorbar\":{\"outlinewidth\":0,\"ticks\":\"\"}}],\"contour\":[{\"type\":\"contour\",\"colorbar\":{\"outlinewidth\":0,\"ticks\":\"\"},\"colorscale\":[[0.0,\"#0d0887\"],[0.1111111111111111,\"#46039f\"],[0.2222222222222222,\"#7201a8\"],[0.3333333333333333,\"#9c179e\"],[0.4444444444444444,\"#bd3786\"],[0.5555555555555556,\"#d8576b\"],[0.6666666666666666,\"#ed7953\"],[0.7777777777777778,\"#fb9f3a\"],[0.8888888888888888,\"#fdca26\"],[1.0,\"#f0f921\"]]}],\"surface\":[{\"type\":\"surface\",\"colorbar\":{\"outlinewidth\":0,\"ticks\":\"\"},\"colorscale\":[[0.0,\"#0d0887\"],[0.1111111111111111,\"#46039f\"],[0.2222222222222222,\"#7201a8\"],[0.3333333333333333,\"#9c179e\"],[0.4444444444444444,\"#bd3786\"],[0.5555555555555556,\"#d8576b\"],[0.6666666666666666,\"#ed7953\"],[0.7777777777777778,\"#fb9f3a\"],[0.8888888888888888,\"#fdca26\"],[1.0,\"#f0f921\"]]}],\"mesh3d\":[{\"type\":\"mesh3d\",\"colorbar\":{\"outlinewidth\":0,\"ticks\":\"\"}}],\"scatter\":[{\"fillpattern\":{\"fillmode\":\"overlay\",\"size\":10,\"solidity\":0.2},\"type\":\"scatter\"}],\"parcoords\":[{\"type\":\"parcoords\",\"line\":{\"colorbar\":{\"outlinewidth\":0,\"ticks\":\"\"}}}],\"scatterpolargl\":[{\"type\":\"scatterpolargl\",\"marker\":{\"colorbar\":{\"outlinewidth\":0,\"ticks\":\"\"}}}],\"bar\":[{\"error_x\":{\"color\":\"#2a3f5f\"},\"error_y\":{\"color\":\"#2a3f5f\"},\"marker\":{\"line\":{\"color\":\"#E5ECF6\",\"width\":0.5},\"pattern\":{\"fillmode\":\"overlay\",\"size\":10,\"solidity\":0.2}},\"type\":\"bar\"}],\"scattergeo\":[{\"type\":\"scattergeo\",\"marker\":{\"colorbar\":{\"outlinewidth\":0,\"ticks\":\"\"}}}],\"scatterpolar\":[{\"type\":\"scatterpolar\",\"marker\":{\"colorbar\":{\"outlinewidth\":0,\"ticks\":\"\"}}}],\"histogram\":[{\"marker\":{\"pattern\":{\"fillmode\":\"overlay\",\"size\":10,\"solidity\":0.2}},\"type\":\"histogram\"}],\"scattergl\":[{\"type\":\"scattergl\",\"marker\":{\"colorbar\":{\"outlinewidth\":0,\"ticks\":\"\"}}}],\"scatter3d\":[{\"type\":\"scatter3d\",\"line\":{\"colorbar\":{\"outlinewidth\":0,\"ticks\":\"\"}},\"marker\":{\"colorbar\":{\"outlinewidth\":0,\"ticks\":\"\"}}}],\"scattermapbox\":[{\"type\":\"scattermapbox\",\"marker\":{\"colorbar\":{\"outlinewidth\":0,\"ticks\":\"\"}}}],\"scatterternary\":[{\"type\":\"scatterternary\",\"marker\":{\"colorbar\":{\"outlinewidth\":0,\"ticks\":\"\"}}}],\"scattercarpet\":[{\"type\":\"scattercarpet\",\"marker\":{\"colorbar\":{\"outlinewidth\":0,\"ticks\":\"\"}}}],\"carpet\":[{\"aaxis\":{\"endlinecolor\":\"#2a3f5f\",\"gridcolor\":\"white\",\"linecolor\":\"white\",\"minorgridcolor\":\"white\",\"startlinecolor\":\"#2a3f5f\"},\"baxis\":{\"endlinecolor\":\"#2a3f5f\",\"gridcolor\":\"white\",\"linecolor\":\"white\",\"minorgridcolor\":\"white\",\"startlinecolor\":\"#2a3f5f\"},\"type\":\"carpet\"}],\"table\":[{\"cells\":{\"fill\":{\"color\":\"#EBF0F8\"},\"line\":{\"color\":\"white\"}},\"header\":{\"fill\":{\"color\":\"#C8D4E3\"},\"line\":{\"color\":\"white\"}},\"type\":\"table\"}],\"barpolar\":[{\"marker\":{\"line\":{\"color\":\"#E5ECF6\",\"width\":0.5},\"pattern\":{\"fillmode\":\"overlay\",\"size\":10,\"solidity\":0.2}},\"type\":\"barpolar\"}],\"pie\":[{\"automargin\":true,\"type\":\"pie\"}]},\"layout\":{\"autotypenumbers\":\"strict\",\"colorway\":[\"#636efa\",\"#EF553B\",\"#00cc96\",\"#ab63fa\",\"#FFA15A\",\"#19d3f3\",\"#FF6692\",\"#B6E880\",\"#FF97FF\",\"#FECB52\"],\"font\":{\"color\":\"#2a3f5f\"},\"hovermode\":\"closest\",\"hoverlabel\":{\"align\":\"left\"},\"paper_bgcolor\":\"white\",\"plot_bgcolor\":\"#E5ECF6\",\"polar\":{\"bgcolor\":\"#E5ECF6\",\"angularaxis\":{\"gridcolor\":\"white\",\"linecolor\":\"white\",\"ticks\":\"\"},\"radialaxis\":{\"gridcolor\":\"white\",\"linecolor\":\"white\",\"ticks\":\"\"}},\"ternary\":{\"bgcolor\":\"#E5ECF6\",\"aaxis\":{\"gridcolor\":\"white\",\"linecolor\":\"white\",\"ticks\":\"\"},\"baxis\":{\"gridcolor\":\"white\",\"linecolor\":\"white\",\"ticks\":\"\"},\"caxis\":{\"gridcolor\":\"white\",\"linecolor\":\"white\",\"ticks\":\"\"}},\"coloraxis\":{\"colorbar\":{\"outlinewidth\":0,\"ticks\":\"\"}},\"colorscale\":{\"sequential\":[[0.0,\"#0d0887\"],[0.1111111111111111,\"#46039f\"],[0.2222222222222222,\"#7201a8\"],[0.3333333333333333,\"#9c179e\"],[0.4444444444444444,\"#bd3786\"],[0.5555555555555556,\"#d8576b\"],[0.6666666666666666,\"#ed7953\"],[0.7777777777777778,\"#fb9f3a\"],[0.8888888888888888,\"#fdca26\"],[1.0,\"#f0f921\"]],\"sequentialminus\":[[0.0,\"#0d0887\"],[0.1111111111111111,\"#46039f\"],[0.2222222222222222,\"#7201a8\"],[0.3333333333333333,\"#9c179e\"],[0.4444444444444444,\"#bd3786\"],[0.5555555555555556,\"#d8576b\"],[0.6666666666666666,\"#ed7953\"],[0.7777777777777778,\"#fb9f3a\"],[0.8888888888888888,\"#fdca26\"],[1.0,\"#f0f921\"]],\"diverging\":[[0,\"#8e0152\"],[0.1,\"#c51b7d\"],[0.2,\"#de77ae\"],[0.3,\"#f1b6da\"],[0.4,\"#fde0ef\"],[0.5,\"#f7f7f7\"],[0.6,\"#e6f5d0\"],[0.7,\"#b8e186\"],[0.8,\"#7fbc41\"],[0.9,\"#4d9221\"],[1,\"#276419\"]]},\"xaxis\":{\"gridcolor\":\"white\",\"linecolor\":\"white\",\"ticks\":\"\",\"title\":{\"standoff\":15},\"zerolinecolor\":\"white\",\"automargin\":true,\"zerolinewidth\":2},\"yaxis\":{\"gridcolor\":\"white\",\"linecolor\":\"white\",\"ticks\":\"\",\"title\":{\"standoff\":15},\"zerolinecolor\":\"white\",\"automargin\":true,\"zerolinewidth\":2},\"scene\":{\"xaxis\":{\"backgroundcolor\":\"#E5ECF6\",\"gridcolor\":\"white\",\"linecolor\":\"white\",\"showbackground\":true,\"ticks\":\"\",\"zerolinecolor\":\"white\",\"gridwidth\":2},\"yaxis\":{\"backgroundcolor\":\"#E5ECF6\",\"gridcolor\":\"white\",\"linecolor\":\"white\",\"showbackground\":true,\"ticks\":\"\",\"zerolinecolor\":\"white\",\"gridwidth\":2},\"zaxis\":{\"backgroundcolor\":\"#E5ECF6\",\"gridcolor\":\"white\",\"linecolor\":\"white\",\"showbackground\":true,\"ticks\":\"\",\"zerolinecolor\":\"white\",\"gridwidth\":2}},\"shapedefaults\":{\"line\":{\"color\":\"#2a3f5f\"}},\"annotationdefaults\":{\"arrowcolor\":\"#2a3f5f\",\"arrowhead\":0,\"arrowwidth\":1},\"geo\":{\"bgcolor\":\"white\",\"landcolor\":\"#E5ECF6\",\"subunitcolor\":\"white\",\"showland\":true,\"showlakes\":true,\"lakecolor\":\"white\"},\"title\":{\"x\":0.05},\"mapbox\":{\"style\":\"light\"}}},\"legend\":{\"tracegroupgap\":0},\"margin\":{\"t\":60},\"title\":{\"text\":\"Visualizing Data Imbalance in Target Feature\"},\"width\":600,\"height\":400},                        {\"responsive\": true}                    ).then(function(){\n",
       "                            \n",
       "var gd = document.getElementById('dc0c3ead-5666-4b34-8685-de2c67cc5872');\n",
       "var x = new MutationObserver(function (mutations, observer) {{\n",
       "        var display = window.getComputedStyle(gd).display;\n",
       "        if (!display || display === 'none') {{\n",
       "            console.log([gd, 'removed!']);\n",
       "            Plotly.purge(gd);\n",
       "            observer.disconnect();\n",
       "        }}\n",
       "}});\n",
       "\n",
       "// Listen for the removal of the full notebook cells\n",
       "var notebookContainer = gd.closest('#notebook-container');\n",
       "if (notebookContainer) {{\n",
       "    x.observe(notebookContainer, {childList: true});\n",
       "}}\n",
       "\n",
       "// Listen for the clearing of the current output cell\n",
       "var outputEl = gd.closest('.output');\n",
       "if (outputEl) {{\n",
       "    x.observe(outputEl, {childList: true});\n",
       "}}\n",
       "\n",
       "                        })                };                });            </script>        </div>"
      ]
     },
     "metadata": {},
     "output_type": "display_data"
    }
   ],
   "source": [
    "# charts for critical input features\n",
    "fig = px.histogram(df, x='CODE_GENDER', color=target_feature, barmode=\"overlay\", width = 600, height = 300)\n",
    "fig.update_layout(xaxis=dict(tickvals=['M', 'F'], ticktext=['Male', 'Female']))\n",
    "fig.show(\"png\")\n",
    "\n",
    "fig = px.histogram(df, x='FLAG_EMAIL', color=target_feature, barmode=\"overlay\", width = 600, height = 300)\n",
    "fig.update_layout(xaxis=dict(tickvals=[0, 1], ticktext=['No', 'Yes']))\n",
    "fig.show(\"png\")\n",
    "\n",
    "fig = px.histogram(df, x='FLAG_OWN_CAR', color=target_feature, barmode=\"overlay\", width = 600, height = 300)\n",
    "fig.show(\"png\")\n",
    "\n",
    "fig = px.histogram(df, x='FLAG_OWN_REALTY', color=target_feature, barmode=\"overlay\", width = 600, height = 300)\n",
    "fig.show(\"png\")\n",
    "\n",
    "\n",
    "# chart for target_feature\n",
    "fig = px.pie(df, values=df.groupby('STATUS').size().values, names=df.groupby('STATUS').size().index)\n",
    "fig.update_layout( title=\"Visualizing Data Imbalance in Target Feature\", width=600, height=400)\n",
    "fig.show()"
   ]
  },
  {
   "cell_type": "markdown",
   "id": "ccd06a62",
   "metadata": {},
   "source": [
    "### 3.5 Data Splitting"
   ]
  },
  {
   "cell_type": "markdown",
   "id": "fe1c628c",
   "metadata": {},
   "source": [
    "Data splitting into train, validation, and test sets is important for machine learning to avoid overfitting and ensure model generazability. In addition, Feature selection an important step in Data Preprocessing is intertwined with data splitting for efficiency."
   ]
  },
  {
   "cell_type": "code",
   "execution_count": 12,
   "id": "6a9e81bc",
   "metadata": {},
   "outputs": [
    {
     "name": "stdout",
     "output_type": "stream",
     "text": [
      "Shape of X_train:  (622949, 15)\n",
      "Shape of y_train:  (622949,)\n",
      "Shape of X_val:  (76994, 15)\n",
      "Shape of y_val:  (76994,)\n",
      "Shape of X_test:  (77772, 15)\n",
      "Shape of y_test:  (77772,)\n",
      "\n",
      "Training set percentage: 80%\n",
      "Validation set percentage: 10%\n",
      "Test set percentage: 10%\n"
     ]
    }
   ],
   "source": [
    "# Assign input features (also for feature selection)\n",
    "X = df[['CODE_GENDER', 'FLAG_EMAIL', 'FLAG_MOBIL', 'FLAG_OWN_CAR', 'FLAG_OWN_REALTY', \n",
    "        'FLAG_PHONE', 'FLAG_WORK_PHONE', 'NAME_EDUCATION_TYPE', 'NAME_FAMILY_STATUS', 'NAME_HOUSING_TYPE', \n",
    "        'NAME_INCOME_TYPE', 'DAYS_BIRTH', 'DAYS_EMPLOYED', 'CNT_CHILDREN', 'CNT_FAM_MEMBERS']]\n",
    "\n",
    "# Assign Target Feature\n",
    "y = df[target_feature]\n",
    "\n",
    "\n",
    "# Perform stratified train_val-test split for input features\n",
    "X_train_val, X_test, y_train_val, y_test = train_test_split(X, y, test_size=0.10,  random_state=0)\n",
    "\n",
    "# Further split the training set into training and validation sets\n",
    "X_train, X_val, y_train, y_val = train_test_split(X_train_val, y_train_val, test_size=0.11,  random_state=0)\n",
    "\n",
    "\n",
    "# Print shapes of the datasets\n",
    "print('Shape of X_train: ', X_train.shape)\n",
    "print('Shape of y_train: ', y_train.shape)\n",
    "print('Shape of X_val: ', X_val.shape)\n",
    "print('Shape of y_val: ', y_val.shape)\n",
    "print('Shape of X_test: ', X_test.shape)\n",
    "print('Shape of y_test: ', y_test.shape)\n",
    "print()\n",
    "\n",
    "# Dataset Splitting Summary\n",
    "total_samples = X_train.shape[0] + X_val.shape[0] + X_test.shape[0]\n",
    "\n",
    "train_percent =  X_train.shape[0] / total_samples * 100\n",
    "val_percent = X_val.shape[0] / total_samples * 100\n",
    "test_percent = X_test.shape[0] / total_samples * 100\n",
    "\n",
    "print(f\"Training set percentage: {train_percent:.0f}%\")\n",
    "print(f\"Validation set percentage: {val_percent:.0f}%\")\n",
    "print(f\"Test set percentage: {test_percent:.0f}%\")"
   ]
  },
  {
   "cell_type": "markdown",
   "id": "feea153c",
   "metadata": {},
   "source": [
    "### 3.6 Data preprocessing II"
   ]
  },
  {
   "cell_type": "markdown",
   "id": "19333714",
   "metadata": {},
   "source": [
    "Data Preprocessing I is done before data splitting to ensure that the entire dataset is clean, consistent, and in the appropriate format. Data preprocessing II is done after data splitting to manipulate features on the training, validation, and test sets, thereby enriching the dataset for predictive modeling."
   ]
  },
  {
   "cell_type": "markdown",
   "id": "8f3ce52f",
   "metadata": {},
   "source": [
    "##### Feature Engineering using Encoding techniques"
   ]
  },
  {
   "cell_type": "markdown",
   "id": "97b1a34f",
   "metadata": {},
   "source": [
    "Feature engineering is crucial for machine learning modeling. In my approach, I utilized different encoding techniques such as count encoder for high cardinality features, binary encoder for binary features, and one hot encoder for nominal features to preprocess the features for improved model performance."
   ]
  },
  {
   "cell_type": "code",
   "execution_count": 13,
   "id": "c3de5c92",
   "metadata": {},
   "outputs": [
    {
     "name": "stdout",
     "output_type": "stream",
     "text": [
      "Note: High cardinality features Unavailable!\n"
     ]
    }
   ],
   "source": [
    "# Create an instance of CountEncoder \n",
    "c_encoder = ce.CountEncoder()\n",
    "\n",
    "# get updated high cardinality feature names\n",
    "high_cardinality_features = np.intersect1d(high_cardinality_features, X_train.columns)\n",
    "\n",
    "# check if high_cardinality_features are available then apply count encoder to X_train, X_val, and X_test\n",
    "if high_cardinality_features.size == 0:\n",
    "    print('Note: High cardinality features Unavailable!')\n",
    "    X_train_c_encoded, X_val_c_encoded, X_test_c_encoded = pd.DataFrame(), pd.DataFrame(), pd.DataFrame()\n",
    "else:\n",
    "    # fit_transform object on train set and transform on test set\n",
    "    X_train_c_encoded, X_val_c_encoded, X_test_c_encoded = c_encoder.fit_transform(X_train[high_cardinality_features]), c_encoder.transform(X_val[high_cardinality_features]), c_encoder.transform(X_test[high_cardinality_features])"
   ]
  },
  {
   "cell_type": "code",
   "execution_count": 14,
   "id": "4c73f128",
   "metadata": {},
   "outputs": [],
   "source": [
    "# Create an instance of BinaryEncoder\n",
    "b_encoder = BinaryEncoder()\n",
    "\n",
    "# get updated binary feature names\n",
    "binary_features = np.intersect1d(binary_features, X_train.columns)\n",
    "\n",
    "# check if binary_features are available then apply binary encoder to X_train, X_val, and X_test\n",
    "if binary_features.size == 0:\n",
    "    print('Note: Binary features Unavailable!')\n",
    "    X_train_b_encoded, X_val_b_encoded, X_test_b_encoded = pd.DataFrame(), pd.DataFrame(), pd.DataFrame()\n",
    "else:\n",
    "    # fit_transform object on train set and transform on test set\n",
    "    X_train_b_encoded, X_val_b_encoded, X_test_b_encoded = b_encoder.fit_transform(X_train[binary_features]), b_encoder.transform(X_val[binary_features]), b_encoder.transform(X_test[binary_features])"
   ]
  },
  {
   "cell_type": "code",
   "execution_count": 16,
   "id": "5cf3c35a",
   "metadata": {},
   "outputs": [],
   "source": [
    "# Create an instance of OneHotEncoder\n",
    "encoder = OneHotEncoder(handle_unknown = 'ignore')\n",
    "\n",
    "# get updated nominal feature names\n",
    "nominal_features = np.intersect1d(nominal_features, X_train.columns)\n",
    "\n",
    "# check if nominal_features are available then apply one hot encoder to X_train, X_val, and X_test\n",
    "if nominal_features.size == 0:\n",
    "    print('Note: Nominal features Unavailable!')\n",
    "    X_train_o_encoded, X_val_o_encoded, X_test_o_encoded = pd.DataFrame(), pd.DataFrame(), pd.DataFrame()\n",
    "else:\n",
    "    # fit_transform object on train set and transform on test set\n",
    "    X_train_o_encoded, X_val_o_encoded, X_test_o_encoded = encoder.fit_transform(X_train[nominal_features]), encoder.transform(X_val[nominal_features]), encoder.transform(X_test[nominal_features])\n",
    "\n",
    "    # Get the names of the nominal columns\n",
    "    column_names = encoder.get_feature_names_out(nominal_features)\n",
    "\n",
    "    # convert X_train_encoded, X_val_encoded, X_test_encoded to dense numpy array\n",
    "    X_train_o_encoded, X_val_o_encoded, X_test_o_encoded = X_train_o_encoded.toarray(), X_val_o_encoded.toarray(), X_test_o_encoded.toarray()\n",
    "\n",
    "    # convert X_train_encoded, X_val_encoded, X_test_encoded dense numpy array to DataFrame\n",
    "    X_train_o_encoded, X_val_o_encoded, X_test_o_encoded = pd.DataFrame(X_train_o_encoded, columns=column_names), pd.DataFrame(X_val_o_encoded, columns=column_names), pd.DataFrame(X_test_o_encoded, columns=column_names)"
   ]
  },
  {
   "cell_type": "code",
   "execution_count": 17,
   "id": "884e743b",
   "metadata": {},
   "outputs": [],
   "source": [
    "# Combine the encoded DataFrames\n",
    "\n",
    "# Reset the index of each DataFrame\n",
    "X_train_c_encoded, X_train_b_encoded, X_train_o_encoded = X_train_c_encoded.reset_index(drop=True), X_train_b_encoded.reset_index(drop=True), X_train_o_encoded.reset_index(drop=True)\n",
    "X_val_c_encoded, X_val_b_encoded, X_val_o_encoded = X_val_c_encoded.reset_index(drop=True), X_val_b_encoded.reset_index(drop=True), X_val_o_encoded.reset_index(drop=True)\n",
    "X_test_c_encoded, X_test_b_encoded, X_test_o_encoded = X_test_c_encoded.reset_index(drop=True), X_test_b_encoded.reset_index(drop=True), X_test_o_encoded.reset_index(drop=True)\n",
    "\n",
    "# Combine the encoded DataFrames using pd.concat\n",
    "X_train_encoded = pd.concat([X_train_c_encoded, X_train_b_encoded, X_train_o_encoded], axis=1)\n",
    "X_val_encoded = pd.concat([X_val_c_encoded, X_val_b_encoded, X_val_o_encoded], axis=1)\n",
    "X_test_encoded = pd.concat([X_test_c_encoded, X_test_b_encoded, X_test_o_encoded], axis=1)"
   ]
  },
  {
   "cell_type": "markdown",
   "id": "8877e30d",
   "metadata": {},
   "source": [
    "##### Feature Scaling"
   ]
  },
  {
   "cell_type": "markdown",
   "id": "27ee7264",
   "metadata": {},
   "source": [
    "Feature scaling is important for machine learning modeling as it transforms the features to a common scale, ensuring that no single feature dominates the others during model training. Scaling can help improve model performance by reducing the impact of the differences in feature scales, which can otherwise lead to biased results. In this jupyter notebook, I have used sklearn's StandardScaler to perform the feature scaling on the X_train_encoded, X_val_encoded, X_test_encoded datasets."
   ]
  },
  {
   "cell_type": "code",
   "execution_count": 18,
   "id": "68c8bd46",
   "metadata": {},
   "outputs": [],
   "source": [
    "# Create an instance of StandardScaler\n",
    "scaler = StandardScaler(with_mean=False)\n",
    "\n",
    "# Convert column names to set\n",
    "all_features = set(X_train.columns)\n",
    "\n",
    "# Create sets of high cardinality, binary, and nominal features\n",
    "hc_features = set(high_cardinality_features)\n",
    "binary_features = set(binary_features)\n",
    "nominal_features = set(nominal_features)\n",
    "\n",
    "# Find the set of features that are not in any of the three sets\n",
    "numeric_features = all_features - hc_features - binary_features - nominal_features\n",
    "\n",
    "# convert numeric_features to list\n",
    "numeric_features = np.array(list(numeric_features))\n",
    "\n",
    "# check if nominal_features are available then apply scaler to X_train, X_val, and X_test\n",
    "if numeric_features.size == 0:\n",
    "    print('Numeric features Unavailable!')\n",
    "    X_train_scaled, X_val_scaled, X_test_scaled = pd.DataFrame(), pd.DataFrame(), pd.DataFrame()\n",
    "else:\n",
    "    # fit_transform object on train set and transform on test set\n",
    "    X_train_scaled, X_val_scaled, X_test_scaled = scaler.fit_transform(X_train[numeric_features]), scaler.transform(X_val[numeric_features]), scaler.transform(X_test[numeric_features])\n",
    "\n",
    "    # convert X_train_scaled, X_val_scaled, X_test_scaled numpy array to DataFrame\n",
    "    X_train_scaled, X_val_scaled, X_test_scaled = pd.DataFrame(X_train_scaled, columns=numeric_features), pd.DataFrame(X_val_scaled, columns=numeric_features), pd.DataFrame(X_test_scaled, columns=numeric_features)"
   ]
  },
  {
   "cell_type": "code",
   "execution_count": 19,
   "id": "2047af87",
   "metadata": {},
   "outputs": [],
   "source": [
    "# update the scaled dataframe by concatenating with encoded dfs\n",
    "X_train_scaled = pd.concat([X_train_encoded, X_train_scaled], axis=1)\n",
    "X_val_scaled = pd.concat([X_val_encoded, X_val_scaled], axis=1)\n",
    "X_test_scaled = pd.concat([X_test_encoded, X_test_scaled], axis=1)"
   ]
  },
  {
   "cell_type": "markdown",
   "id": "45ffadcd",
   "metadata": {},
   "source": [
    "##### Data augmentation using SMOTE"
   ]
  },
  {
   "cell_type": "markdown",
   "id": "c9935783",
   "metadata": {},
   "source": [
    "SMOTE (Synthetic Minority Over-sampling Technique) is a popular data augmentation technique that is commonly used to address class imbalance in machine learning. SMOTE works by creating synthetic examples of the minority class by interpolating new data points along lines between existing minority class data points. It is important to apply SMOTE only to the training set because the goal of SMOTE is to increase the number of examples in the minority class to prevent the model from being biased towards the majority class. However, SMOTE is not used for the final model since the ML model performs better without SMOTE."
   ]
  },
  {
   "cell_type": "raw",
   "id": "c5583d13",
   "metadata": {},
   "source": [
    "# y train labels before SMOTE\n",
    "y_train.value_counts()"
   ]
  },
  {
   "cell_type": "raw",
   "id": "dc992714",
   "metadata": {},
   "source": [
    "# Create an instance of Smote\n",
    "smote = SMOTE(sampling_strategy='auto', random_state=0, k_neighbors=7)\n",
    "\n",
    "# fit_resample SMOTE object on train set\n",
    "X_train_scaled, y_train = smote.fit_resample(X_train_scaled, y_train)"
   ]
  },
  {
   "cell_type": "raw",
   "id": "d6807872",
   "metadata": {},
   "source": [
    "# # y train labels before SMOTE\n",
    "y_train.value_counts()"
   ]
  },
  {
   "cell_type": "markdown",
   "id": "a16edf31",
   "metadata": {},
   "source": [
    "##### Feature Engineering using Clustering"
   ]
  },
  {
   "cell_type": "markdown",
   "id": "00f8ee0d",
   "metadata": {},
   "source": [
    "The reason for performing clustering feature engineering after encoding, scaling, and SMOTE is that clustering algorithms are sensitive to the scale and distribution of features, and they may not work well with categorical variables or class imbalance. By applying encoding, scaling, and SMOTE beforehand, you can ensure that the input to the clustering algorithm is appropriate and yields meaningful results. But, for our dataset, feature engineering using clustering did not improve model performance."
   ]
  },
  {
   "cell_type": "code",
   "execution_count": 22,
   "id": "f6db996e",
   "metadata": {},
   "outputs": [],
   "source": [
    "# Choose the number of clusters to create\n",
    "#n_clusters = 4\n",
    "\n",
    "# Fit K-means to the training data\n",
    "#kmeans = KMeans(n_clusters=n_clusters, random_state=42)\n",
    "#kmeans.fit(X_train_scaled)\n",
    "\n",
    "# Obtain the cluster labels for each sample in the training, validation, and test data\n",
    "#train_labels = kmeans.labels_\n",
    "#val_labels = kmeans.predict(X_val_scaled)\n",
    "#test_labels = kmeans.predict(X_test_scaled)\n",
    "\n",
    "# Add the cluster label column to each dataframe\n",
    "#X_train_scaled['cluster_label'] = train_labels\n",
    "#X_val_scaled['cluster_label'] = val_labels\n",
    "#X_test_scaled['cluster_label'] = test_labels"
   ]
  },
  {
   "cell_type": "markdown",
   "id": "ea39b92f",
   "metadata": {},
   "source": [
    "### 3.7 Model Training & Evaluation"
   ]
  },
  {
   "cell_type": "markdown",
   "id": "6ebd3e05",
   "metadata": {},
   "source": [
    "Model training involves selecting an appropriate algorithm and fine-tuning its parameters to obtain the best possible model for a given dataset. In this case, logistic regression, and random forest classifers were trained and fine-tuned using random search CV. The best model selected based on cross-validation performance was then trained on the entire train set and evaluated on the validation set. Once the model was optimized, it was evaluated on the test set to ensure that it generalizes well to unseen data.\n",
    "\n",
    "During model training, it is essential to monitor for underfitting and overfitting. Underfitting occurs when a model is too simple to capture the underlying patterns in the data, resulting in poor performance on both the training and validation sets. Overfitting, on the other hand, occurs when a model is too complex and captures noise in the training data, leading to excellent performance on the training set but poor performance on the validation set.\n",
    "\n",
    "To ensure good performance on the test set, it is crucial to select a model that achieves a balance between underfitting and overfitting. The selected model should have good performance on both the training and validation sets while also generalizing well to the test set. A model that achieves good performance on the test set is likely to perform well on new, unseen data, and is considered to be a good model. This section aims to achieve such a model."
   ]
  },
  {
   "cell_type": "markdown",
   "id": "2ef7dae6",
   "metadata": {},
   "source": [
    "##### Model definition & Hyperparameter tuning with Random Search CV"
   ]
  },
  {
   "cell_type": "code",
   "execution_count": 23,
   "id": "25bff7d4",
   "metadata": {},
   "outputs": [
    {
     "name": "stdout",
     "output_type": "stream",
     "text": [
      "lr:\n",
      "Best hyperparameters: {'C': 100.0, 'max_iter': 659, 'solver': 'lbfgs'}\n",
      "Best f1 score: 0.380\n",
      "\n",
      "rf:\n",
      "Best hyperparameters: {'n_estimators': 25, 'min_samples_split': 4, 'min_samples_leaf': 2, 'max_features': 'log2', 'max_depth': 35, 'bootstrap': True}\n",
      "Best f1 score: 0.676\n",
      "\n"
     ]
    }
   ],
   "source": [
    "# define the models and hyperparameter search spaces\n",
    "models = {\n",
    "    'lr': {\n",
    "        'model': LogisticRegression(random_state=0),\n",
    "        'param_distributions': {\n",
    "            # Regularization strength\n",
    "            'C': np.logspace(-10, 10, 21),\n",
    "            # Solver for optimization\n",
    "            'solver': ['newton-cg', 'lbfgs', 'liblinear', 'saga'],\n",
    "            # Maximum number of iterations\n",
    "            'max_iter': randint(100, 1000),\n",
    "        }\n",
    "    },\n",
    "    \n",
    "    'rf': {\n",
    "        'model': RandomForestClassifier(random_state=0),\n",
    "        'param_distributions': {\n",
    "                # number of estimators\n",
    "                'n_estimators': [25, 50],\n",
    "                # Regularization parameter\n",
    "                'max_features': ['sqrt', 'log2'],\n",
    "                # Regularization parameter    \n",
    "                'max_depth': [15, 25, 35, 50],\n",
    "                # Regularization parameter    \n",
    "                'min_samples_split': [2, 4, 8],\n",
    "                # Regularization parameter    \n",
    "                'min_samples_leaf': [2, 6, 8],\n",
    "                # bootstrap strategy\n",
    "                'bootstrap': [True, False]\n",
    "        }\n",
    "    }\n",
    "}\n",
    "\n",
    "\n",
    "# Define cross-validation method\n",
    "cv = KFold(n_splits=3)\n",
    "\n",
    "# Perform hyperparameter tuning on all models\n",
    "best_models = {}\n",
    "for name in models:\n",
    "    print(f'{name}:')\n",
    "    \n",
    "    # ignore all warnings\n",
    "    warnings.filterwarnings('ignore')\n",
    "    \n",
    "    # define the random search object\n",
    "    random_search = RandomizedSearchCV(\n",
    "        models[name]['model'],\n",
    "        param_distributions=models[name]['param_distributions'],\n",
    "        n_iter=3, \n",
    "        cv=cv,\n",
    "        scoring='f1_macro',\n",
    "        random_state=0)\n",
    "    \n",
    "    # perform hyperparameter tuning with random search\n",
    "    random_search.fit(X_train_scaled, y_train)\n",
    "    \n",
    "    # get the best model and its hyperparameters\n",
    "    best_model = random_search.best_estimator_\n",
    "    best_params = random_search.best_params_\n",
    "    \n",
    "    # store the best model in the dictionary\n",
    "    best_models[name] = {'model': best_model, 'params': best_params}\n",
    "\n",
    "    # print best hyperparameters and best score\n",
    "    print(f'Best hyperparameters: {random_search.best_params_}')\n",
    "    print(f'Best f1 score: {random_search.best_score_:.3f}')\n",
    "    print()"
   ]
  },
  {
   "cell_type": "markdown",
   "id": "65ed9613",
   "metadata": {},
   "source": [
    "##### Identify the best model using random search results"
   ]
  },
  {
   "cell_type": "code",
   "execution_count": 24,
   "id": "fefed551",
   "metadata": {},
   "outputs": [
    {
     "name": "stdout",
     "output_type": "stream",
     "text": [
      "Best Model: RandomForestClassifier(max_depth=35, max_features='log2', min_samples_leaf=2,\n",
      "                       min_samples_split=4, n_estimators=25, random_state=0)\n"
     ]
    }
   ],
   "source": [
    "# get best model name and score\n",
    "best_model = best_models['rf']['model']\n",
    "\n",
    "print('Best Model:', best_model)"
   ]
  },
  {
   "cell_type": "markdown",
   "id": "01e0b326",
   "metadata": {},
   "source": [
    "##### Model performance on Entire Train Set"
   ]
  },
  {
   "cell_type": "code",
   "execution_count": 25,
   "id": "de59c889",
   "metadata": {},
   "outputs": [
    {
     "name": "stdout",
     "output_type": "stream",
     "text": [
      "              precision    recall  f1-score   support\n",
      "\n",
      "         0.0       0.70      0.50      0.58    241981\n",
      "         1.0       0.73      0.87      0.79    380968\n",
      "\n",
      "    accuracy                           0.72    622949\n",
      "   macro avg       0.72      0.68      0.69    622949\n",
      "weighted avg       0.72      0.72      0.71    622949\n",
      "\n"
     ]
    }
   ],
   "source": [
    "# fit model on entire train set\n",
    "best_model.fit(X_train_scaled, y_train)\n",
    "\n",
    "# predict model on train set\n",
    "y_pred_train = best_model.predict(X_train_scaled)\n",
    "\n",
    "# Generate the classification report\n",
    "report = classification_report(y_train, y_pred_train)\n",
    "\n",
    "# Print the report\n",
    "print(report)"
   ]
  },
  {
   "cell_type": "markdown",
   "id": "091af61f",
   "metadata": {},
   "source": [
    "##### Model performance on Validation Set"
   ]
  },
  {
   "cell_type": "code",
   "execution_count": 26,
   "id": "918570eb",
   "metadata": {},
   "outputs": [
    {
     "name": "stdout",
     "output_type": "stream",
     "text": [
      "              precision    recall  f1-score   support\n",
      "\n",
      "         0.0       0.69      0.49      0.57     29979\n",
      "         1.0       0.72      0.86      0.79     47015\n",
      "\n",
      "    accuracy                           0.71     76994\n",
      "   macro avg       0.71      0.67      0.68     76994\n",
      "weighted avg       0.71      0.71      0.70     76994\n",
      "\n"
     ]
    }
   ],
   "source": [
    "# predict model on train set\n",
    "y_pred_val = best_model.predict(X_val_scaled)\n",
    "\n",
    "# Generate the classification report\n",
    "report = classification_report(y_val, y_pred_val)\n",
    "\n",
    "# Print the report\n",
    "print(report)"
   ]
  },
  {
   "cell_type": "markdown",
   "id": "631d32fe",
   "metadata": {},
   "source": [
    "##### Feature Importance for the best model"
   ]
  },
  {
   "cell_type": "markdown",
   "id": "9f7acfa9",
   "metadata": {},
   "source": [
    "Analyzing feature importances is important for selecting the best subset of features because it helps us identify the features that contribute most to the model's predictive performance. By selecting only the most informative features, we can improve the model's accuracy and reduce its complexity, making it easier to interpret and more efficient to use. In this project, feature importance plots are generated for Random Foest to select a subset of the most informative features for use in the model. By analyzing the splits made in the decision trees of the Random Forest, we can identify the features that contribute most to the model's predictive performance."
   ]
  },
  {
   "cell_type": "code",
   "execution_count": 27,
   "id": "e46d3b39",
   "metadata": {},
   "outputs": [
    {
     "data": {
      "application/vnd.plotly.v1+json": {
       "config": {
        "plotlyServerURL": "https://plot.ly"
       },
       "data": [
        {
         "type": "bar",
         "x": [
          "CODE_GENDER_0",
          "CODE_GENDER_1",
          "FLAG_EMAIL_0",
          "FLAG_EMAIL_1",
          "FLAG_MOBIL_0",
          "FLAG_OWN_CAR_0",
          "FLAG_OWN_CAR_1",
          "FLAG_OWN_REALTY_0",
          "FLAG_OWN_REALTY_1",
          "FLAG_PHONE_0",
          "FLAG_PHONE_1",
          "FLAG_WORK_PHONE_0",
          "FLAG_WORK_PHONE_1",
          "NAME_EDUCATION_TYPE_Academic degree",
          "NAME_EDUCATION_TYPE_Higher education",
          "NAME_EDUCATION_TYPE_Incomplete higher",
          "NAME_EDUCATION_TYPE_Lower secondary",
          "NAME_EDUCATION_TYPE_Secondary / secondary special",
          "NAME_FAMILY_STATUS_Civil marriage",
          "NAME_FAMILY_STATUS_Married",
          "NAME_FAMILY_STATUS_Separated",
          "NAME_FAMILY_STATUS_Single / not married",
          "NAME_FAMILY_STATUS_Widow",
          "NAME_HOUSING_TYPE_Co-op apartment",
          "NAME_HOUSING_TYPE_House / apartment",
          "NAME_HOUSING_TYPE_Municipal apartment",
          "NAME_HOUSING_TYPE_Office apartment",
          "NAME_HOUSING_TYPE_Rented apartment",
          "NAME_HOUSING_TYPE_With parents",
          "NAME_INCOME_TYPE_Commercial associate",
          "NAME_INCOME_TYPE_Pensioner",
          "NAME_INCOME_TYPE_State servant",
          "NAME_INCOME_TYPE_Student",
          "NAME_INCOME_TYPE_Working",
          "DAYS_BIRTH",
          "DAYS_EMPLOYED",
          "CNT_CHILDREN",
          "CNT_FAM_MEMBERS"
         ],
         "y": [
          0.3887190631936064,
          0.2568014797633866,
          0.03540038033310549,
          0.0280295731215293,
          0.017444423653632524,
          0.017009537791187943,
          0.014038534923841241,
          0.013989496498912348,
          0.013594754487398497,
          0.013519675822262182,
          0.01350073049053226,
          0.013489742718826405,
          0.013019695697060438,
          0.012961886029629865,
          0.012506293177867398,
          0.010722628679156616,
          0.01042562799234529,
          0.010092310050444154,
          0.010047577504745287,
          0.009850625384506087,
          0.008892016131444521,
          0.008603553001457981,
          0.008416029223598704,
          0.007730718707158633,
          0.007072898318913651,
          0.006913425286120503,
          0.00646722623325808,
          0.006061405012609106,
          0.005677879002402064,
          0.0044537208149510584,
          0.0038238496064632774,
          0.003603120520429889,
          0.0022179070742062257,
          0.002198962267345925,
          0.0015343118567212426,
          0.0008439152364681171,
          0.00032502439247490824,
          0
         ]
        }
       ],
       "layout": {
        "template": {
         "data": {
          "bar": [
           {
            "error_x": {
             "color": "#2a3f5f"
            },
            "error_y": {
             "color": "#2a3f5f"
            },
            "marker": {
             "line": {
              "color": "#E5ECF6",
              "width": 0.5
             },
             "pattern": {
              "fillmode": "overlay",
              "size": 10,
              "solidity": 0.2
             }
            },
            "type": "bar"
           }
          ],
          "barpolar": [
           {
            "marker": {
             "line": {
              "color": "#E5ECF6",
              "width": 0.5
             },
             "pattern": {
              "fillmode": "overlay",
              "size": 10,
              "solidity": 0.2
             }
            },
            "type": "barpolar"
           }
          ],
          "carpet": [
           {
            "aaxis": {
             "endlinecolor": "#2a3f5f",
             "gridcolor": "white",
             "linecolor": "white",
             "minorgridcolor": "white",
             "startlinecolor": "#2a3f5f"
            },
            "baxis": {
             "endlinecolor": "#2a3f5f",
             "gridcolor": "white",
             "linecolor": "white",
             "minorgridcolor": "white",
             "startlinecolor": "#2a3f5f"
            },
            "type": "carpet"
           }
          ],
          "choropleth": [
           {
            "colorbar": {
             "outlinewidth": 0,
             "ticks": ""
            },
            "type": "choropleth"
           }
          ],
          "contour": [
           {
            "colorbar": {
             "outlinewidth": 0,
             "ticks": ""
            },
            "colorscale": [
             [
              0,
              "#0d0887"
             ],
             [
              0.1111111111111111,
              "#46039f"
             ],
             [
              0.2222222222222222,
              "#7201a8"
             ],
             [
              0.3333333333333333,
              "#9c179e"
             ],
             [
              0.4444444444444444,
              "#bd3786"
             ],
             [
              0.5555555555555556,
              "#d8576b"
             ],
             [
              0.6666666666666666,
              "#ed7953"
             ],
             [
              0.7777777777777778,
              "#fb9f3a"
             ],
             [
              0.8888888888888888,
              "#fdca26"
             ],
             [
              1,
              "#f0f921"
             ]
            ],
            "type": "contour"
           }
          ],
          "contourcarpet": [
           {
            "colorbar": {
             "outlinewidth": 0,
             "ticks": ""
            },
            "type": "contourcarpet"
           }
          ],
          "heatmap": [
           {
            "colorbar": {
             "outlinewidth": 0,
             "ticks": ""
            },
            "colorscale": [
             [
              0,
              "#0d0887"
             ],
             [
              0.1111111111111111,
              "#46039f"
             ],
             [
              0.2222222222222222,
              "#7201a8"
             ],
             [
              0.3333333333333333,
              "#9c179e"
             ],
             [
              0.4444444444444444,
              "#bd3786"
             ],
             [
              0.5555555555555556,
              "#d8576b"
             ],
             [
              0.6666666666666666,
              "#ed7953"
             ],
             [
              0.7777777777777778,
              "#fb9f3a"
             ],
             [
              0.8888888888888888,
              "#fdca26"
             ],
             [
              1,
              "#f0f921"
             ]
            ],
            "type": "heatmap"
           }
          ],
          "heatmapgl": [
           {
            "colorbar": {
             "outlinewidth": 0,
             "ticks": ""
            },
            "colorscale": [
             [
              0,
              "#0d0887"
             ],
             [
              0.1111111111111111,
              "#46039f"
             ],
             [
              0.2222222222222222,
              "#7201a8"
             ],
             [
              0.3333333333333333,
              "#9c179e"
             ],
             [
              0.4444444444444444,
              "#bd3786"
             ],
             [
              0.5555555555555556,
              "#d8576b"
             ],
             [
              0.6666666666666666,
              "#ed7953"
             ],
             [
              0.7777777777777778,
              "#fb9f3a"
             ],
             [
              0.8888888888888888,
              "#fdca26"
             ],
             [
              1,
              "#f0f921"
             ]
            ],
            "type": "heatmapgl"
           }
          ],
          "histogram": [
           {
            "marker": {
             "pattern": {
              "fillmode": "overlay",
              "size": 10,
              "solidity": 0.2
             }
            },
            "type": "histogram"
           }
          ],
          "histogram2d": [
           {
            "colorbar": {
             "outlinewidth": 0,
             "ticks": ""
            },
            "colorscale": [
             [
              0,
              "#0d0887"
             ],
             [
              0.1111111111111111,
              "#46039f"
             ],
             [
              0.2222222222222222,
              "#7201a8"
             ],
             [
              0.3333333333333333,
              "#9c179e"
             ],
             [
              0.4444444444444444,
              "#bd3786"
             ],
             [
              0.5555555555555556,
              "#d8576b"
             ],
             [
              0.6666666666666666,
              "#ed7953"
             ],
             [
              0.7777777777777778,
              "#fb9f3a"
             ],
             [
              0.8888888888888888,
              "#fdca26"
             ],
             [
              1,
              "#f0f921"
             ]
            ],
            "type": "histogram2d"
           }
          ],
          "histogram2dcontour": [
           {
            "colorbar": {
             "outlinewidth": 0,
             "ticks": ""
            },
            "colorscale": [
             [
              0,
              "#0d0887"
             ],
             [
              0.1111111111111111,
              "#46039f"
             ],
             [
              0.2222222222222222,
              "#7201a8"
             ],
             [
              0.3333333333333333,
              "#9c179e"
             ],
             [
              0.4444444444444444,
              "#bd3786"
             ],
             [
              0.5555555555555556,
              "#d8576b"
             ],
             [
              0.6666666666666666,
              "#ed7953"
             ],
             [
              0.7777777777777778,
              "#fb9f3a"
             ],
             [
              0.8888888888888888,
              "#fdca26"
             ],
             [
              1,
              "#f0f921"
             ]
            ],
            "type": "histogram2dcontour"
           }
          ],
          "mesh3d": [
           {
            "colorbar": {
             "outlinewidth": 0,
             "ticks": ""
            },
            "type": "mesh3d"
           }
          ],
          "parcoords": [
           {
            "line": {
             "colorbar": {
              "outlinewidth": 0,
              "ticks": ""
             }
            },
            "type": "parcoords"
           }
          ],
          "pie": [
           {
            "automargin": true,
            "type": "pie"
           }
          ],
          "scatter": [
           {
            "fillpattern": {
             "fillmode": "overlay",
             "size": 10,
             "solidity": 0.2
            },
            "type": "scatter"
           }
          ],
          "scatter3d": [
           {
            "line": {
             "colorbar": {
              "outlinewidth": 0,
              "ticks": ""
             }
            },
            "marker": {
             "colorbar": {
              "outlinewidth": 0,
              "ticks": ""
             }
            },
            "type": "scatter3d"
           }
          ],
          "scattercarpet": [
           {
            "marker": {
             "colorbar": {
              "outlinewidth": 0,
              "ticks": ""
             }
            },
            "type": "scattercarpet"
           }
          ],
          "scattergeo": [
           {
            "marker": {
             "colorbar": {
              "outlinewidth": 0,
              "ticks": ""
             }
            },
            "type": "scattergeo"
           }
          ],
          "scattergl": [
           {
            "marker": {
             "colorbar": {
              "outlinewidth": 0,
              "ticks": ""
             }
            },
            "type": "scattergl"
           }
          ],
          "scattermapbox": [
           {
            "marker": {
             "colorbar": {
              "outlinewidth": 0,
              "ticks": ""
             }
            },
            "type": "scattermapbox"
           }
          ],
          "scatterpolar": [
           {
            "marker": {
             "colorbar": {
              "outlinewidth": 0,
              "ticks": ""
             }
            },
            "type": "scatterpolar"
           }
          ],
          "scatterpolargl": [
           {
            "marker": {
             "colorbar": {
              "outlinewidth": 0,
              "ticks": ""
             }
            },
            "type": "scatterpolargl"
           }
          ],
          "scatterternary": [
           {
            "marker": {
             "colorbar": {
              "outlinewidth": 0,
              "ticks": ""
             }
            },
            "type": "scatterternary"
           }
          ],
          "surface": [
           {
            "colorbar": {
             "outlinewidth": 0,
             "ticks": ""
            },
            "colorscale": [
             [
              0,
              "#0d0887"
             ],
             [
              0.1111111111111111,
              "#46039f"
             ],
             [
              0.2222222222222222,
              "#7201a8"
             ],
             [
              0.3333333333333333,
              "#9c179e"
             ],
             [
              0.4444444444444444,
              "#bd3786"
             ],
             [
              0.5555555555555556,
              "#d8576b"
             ],
             [
              0.6666666666666666,
              "#ed7953"
             ],
             [
              0.7777777777777778,
              "#fb9f3a"
             ],
             [
              0.8888888888888888,
              "#fdca26"
             ],
             [
              1,
              "#f0f921"
             ]
            ],
            "type": "surface"
           }
          ],
          "table": [
           {
            "cells": {
             "fill": {
              "color": "#EBF0F8"
             },
             "line": {
              "color": "white"
             }
            },
            "header": {
             "fill": {
              "color": "#C8D4E3"
             },
             "line": {
              "color": "white"
             }
            },
            "type": "table"
           }
          ]
         },
         "layout": {
          "annotationdefaults": {
           "arrowcolor": "#2a3f5f",
           "arrowhead": 0,
           "arrowwidth": 1
          },
          "autotypenumbers": "strict",
          "coloraxis": {
           "colorbar": {
            "outlinewidth": 0,
            "ticks": ""
           }
          },
          "colorscale": {
           "diverging": [
            [
             0,
             "#8e0152"
            ],
            [
             0.1,
             "#c51b7d"
            ],
            [
             0.2,
             "#de77ae"
            ],
            [
             0.3,
             "#f1b6da"
            ],
            [
             0.4,
             "#fde0ef"
            ],
            [
             0.5,
             "#f7f7f7"
            ],
            [
             0.6,
             "#e6f5d0"
            ],
            [
             0.7,
             "#b8e186"
            ],
            [
             0.8,
             "#7fbc41"
            ],
            [
             0.9,
             "#4d9221"
            ],
            [
             1,
             "#276419"
            ]
           ],
           "sequential": [
            [
             0,
             "#0d0887"
            ],
            [
             0.1111111111111111,
             "#46039f"
            ],
            [
             0.2222222222222222,
             "#7201a8"
            ],
            [
             0.3333333333333333,
             "#9c179e"
            ],
            [
             0.4444444444444444,
             "#bd3786"
            ],
            [
             0.5555555555555556,
             "#d8576b"
            ],
            [
             0.6666666666666666,
             "#ed7953"
            ],
            [
             0.7777777777777778,
             "#fb9f3a"
            ],
            [
             0.8888888888888888,
             "#fdca26"
            ],
            [
             1,
             "#f0f921"
            ]
           ],
           "sequentialminus": [
            [
             0,
             "#0d0887"
            ],
            [
             0.1111111111111111,
             "#46039f"
            ],
            [
             0.2222222222222222,
             "#7201a8"
            ],
            [
             0.3333333333333333,
             "#9c179e"
            ],
            [
             0.4444444444444444,
             "#bd3786"
            ],
            [
             0.5555555555555556,
             "#d8576b"
            ],
            [
             0.6666666666666666,
             "#ed7953"
            ],
            [
             0.7777777777777778,
             "#fb9f3a"
            ],
            [
             0.8888888888888888,
             "#fdca26"
            ],
            [
             1,
             "#f0f921"
            ]
           ]
          },
          "colorway": [
           "#636efa",
           "#EF553B",
           "#00cc96",
           "#ab63fa",
           "#FFA15A",
           "#19d3f3",
           "#FF6692",
           "#B6E880",
           "#FF97FF",
           "#FECB52"
          ],
          "font": {
           "color": "#2a3f5f"
          },
          "geo": {
           "bgcolor": "white",
           "lakecolor": "white",
           "landcolor": "#E5ECF6",
           "showlakes": true,
           "showland": true,
           "subunitcolor": "white"
          },
          "hoverlabel": {
           "align": "left"
          },
          "hovermode": "closest",
          "mapbox": {
           "style": "light"
          },
          "paper_bgcolor": "white",
          "plot_bgcolor": "#E5ECF6",
          "polar": {
           "angularaxis": {
            "gridcolor": "white",
            "linecolor": "white",
            "ticks": ""
           },
           "bgcolor": "#E5ECF6",
           "radialaxis": {
            "gridcolor": "white",
            "linecolor": "white",
            "ticks": ""
           }
          },
          "scene": {
           "xaxis": {
            "backgroundcolor": "#E5ECF6",
            "gridcolor": "white",
            "gridwidth": 2,
            "linecolor": "white",
            "showbackground": true,
            "ticks": "",
            "zerolinecolor": "white"
           },
           "yaxis": {
            "backgroundcolor": "#E5ECF6",
            "gridcolor": "white",
            "gridwidth": 2,
            "linecolor": "white",
            "showbackground": true,
            "ticks": "",
            "zerolinecolor": "white"
           },
           "zaxis": {
            "backgroundcolor": "#E5ECF6",
            "gridcolor": "white",
            "gridwidth": 2,
            "linecolor": "white",
            "showbackground": true,
            "ticks": "",
            "zerolinecolor": "white"
           }
          },
          "shapedefaults": {
           "line": {
            "color": "#2a3f5f"
           }
          },
          "ternary": {
           "aaxis": {
            "gridcolor": "white",
            "linecolor": "white",
            "ticks": ""
           },
           "baxis": {
            "gridcolor": "white",
            "linecolor": "white",
            "ticks": ""
           },
           "bgcolor": "#E5ECF6",
           "caxis": {
            "gridcolor": "white",
            "linecolor": "white",
            "ticks": ""
           }
          },
          "title": {
           "x": 0.05
          },
          "xaxis": {
           "automargin": true,
           "gridcolor": "white",
           "linecolor": "white",
           "ticks": "",
           "title": {
            "standoff": 15
           },
           "zerolinecolor": "white",
           "zerolinewidth": 2
          },
          "yaxis": {
           "automargin": true,
           "gridcolor": "white",
           "linecolor": "white",
           "ticks": "",
           "title": {
            "standoff": 15
           },
           "zerolinecolor": "white",
           "zerolinewidth": 2
          }
         }
        },
        "title": {
         "text": "Feature Importances"
        }
       }
      },
      "text/html": [
       "<div>                            <div id=\"68b7976f-f8a2-494c-a570-c80ed51c8490\" class=\"plotly-graph-div\" style=\"height:525px; width:100%;\"></div>            <script type=\"text/javascript\">                require([\"plotly\"], function(Plotly) {                    window.PLOTLYENV=window.PLOTLYENV || {};                                    if (document.getElementById(\"68b7976f-f8a2-494c-a570-c80ed51c8490\")) {                    Plotly.newPlot(                        \"68b7976f-f8a2-494c-a570-c80ed51c8490\",                        [{\"x\":[\"CODE_GENDER_0\",\"CODE_GENDER_1\",\"FLAG_EMAIL_0\",\"FLAG_EMAIL_1\",\"FLAG_MOBIL_0\",\"FLAG_OWN_CAR_0\",\"FLAG_OWN_CAR_1\",\"FLAG_OWN_REALTY_0\",\"FLAG_OWN_REALTY_1\",\"FLAG_PHONE_0\",\"FLAG_PHONE_1\",\"FLAG_WORK_PHONE_0\",\"FLAG_WORK_PHONE_1\",\"NAME_EDUCATION_TYPE_Academic degree\",\"NAME_EDUCATION_TYPE_Higher education\",\"NAME_EDUCATION_TYPE_Incomplete higher\",\"NAME_EDUCATION_TYPE_Lower secondary\",\"NAME_EDUCATION_TYPE_Secondary / secondary special\",\"NAME_FAMILY_STATUS_Civil marriage\",\"NAME_FAMILY_STATUS_Married\",\"NAME_FAMILY_STATUS_Separated\",\"NAME_FAMILY_STATUS_Single / not married\",\"NAME_FAMILY_STATUS_Widow\",\"NAME_HOUSING_TYPE_Co-op apartment\",\"NAME_HOUSING_TYPE_House / apartment\",\"NAME_HOUSING_TYPE_Municipal apartment\",\"NAME_HOUSING_TYPE_Office apartment\",\"NAME_HOUSING_TYPE_Rented apartment\",\"NAME_HOUSING_TYPE_With parents\",\"NAME_INCOME_TYPE_Commercial associate\",\"NAME_INCOME_TYPE_Pensioner\",\"NAME_INCOME_TYPE_State servant\",\"NAME_INCOME_TYPE_Student\",\"NAME_INCOME_TYPE_Working\",\"DAYS_BIRTH\",\"DAYS_EMPLOYED\",\"CNT_CHILDREN\",\"CNT_FAM_MEMBERS\"],\"y\":[0.3887190631936064,0.2568014797633866,0.03540038033310549,0.0280295731215293,0.017444423653632524,0.017009537791187943,0.014038534923841241,0.013989496498912348,0.013594754487398497,0.013519675822262182,0.01350073049053226,0.013489742718826405,0.013019695697060438,0.012961886029629865,0.012506293177867398,0.010722628679156616,0.01042562799234529,0.010092310050444154,0.010047577504745287,0.009850625384506087,0.008892016131444521,0.008603553001457981,0.008416029223598704,0.007730718707158633,0.007072898318913651,0.006913425286120503,0.00646722623325808,0.006061405012609106,0.005677879002402064,0.0044537208149510584,0.0038238496064632774,0.003603120520429889,0.0022179070742062257,0.002198962267345925,0.0015343118567212426,0.0008439152364681171,0.00032502439247490824,0.0],\"type\":\"bar\"}],                        {\"title\":{\"text\":\"Feature Importances\"},\"template\":{\"data\":{\"histogram2dcontour\":[{\"type\":\"histogram2dcontour\",\"colorbar\":{\"outlinewidth\":0,\"ticks\":\"\"},\"colorscale\":[[0.0,\"#0d0887\"],[0.1111111111111111,\"#46039f\"],[0.2222222222222222,\"#7201a8\"],[0.3333333333333333,\"#9c179e\"],[0.4444444444444444,\"#bd3786\"],[0.5555555555555556,\"#d8576b\"],[0.6666666666666666,\"#ed7953\"],[0.7777777777777778,\"#fb9f3a\"],[0.8888888888888888,\"#fdca26\"],[1.0,\"#f0f921\"]]}],\"choropleth\":[{\"type\":\"choropleth\",\"colorbar\":{\"outlinewidth\":0,\"ticks\":\"\"}}],\"histogram2d\":[{\"type\":\"histogram2d\",\"colorbar\":{\"outlinewidth\":0,\"ticks\":\"\"},\"colorscale\":[[0.0,\"#0d0887\"],[0.1111111111111111,\"#46039f\"],[0.2222222222222222,\"#7201a8\"],[0.3333333333333333,\"#9c179e\"],[0.4444444444444444,\"#bd3786\"],[0.5555555555555556,\"#d8576b\"],[0.6666666666666666,\"#ed7953\"],[0.7777777777777778,\"#fb9f3a\"],[0.8888888888888888,\"#fdca26\"],[1.0,\"#f0f921\"]]}],\"heatmap\":[{\"type\":\"heatmap\",\"colorbar\":{\"outlinewidth\":0,\"ticks\":\"\"},\"colorscale\":[[0.0,\"#0d0887\"],[0.1111111111111111,\"#46039f\"],[0.2222222222222222,\"#7201a8\"],[0.3333333333333333,\"#9c179e\"],[0.4444444444444444,\"#bd3786\"],[0.5555555555555556,\"#d8576b\"],[0.6666666666666666,\"#ed7953\"],[0.7777777777777778,\"#fb9f3a\"],[0.8888888888888888,\"#fdca26\"],[1.0,\"#f0f921\"]]}],\"heatmapgl\":[{\"type\":\"heatmapgl\",\"colorbar\":{\"outlinewidth\":0,\"ticks\":\"\"},\"colorscale\":[[0.0,\"#0d0887\"],[0.1111111111111111,\"#46039f\"],[0.2222222222222222,\"#7201a8\"],[0.3333333333333333,\"#9c179e\"],[0.4444444444444444,\"#bd3786\"],[0.5555555555555556,\"#d8576b\"],[0.6666666666666666,\"#ed7953\"],[0.7777777777777778,\"#fb9f3a\"],[0.8888888888888888,\"#fdca26\"],[1.0,\"#f0f921\"]]}],\"contourcarpet\":[{\"type\":\"contourcarpet\",\"colorbar\":{\"outlinewidth\":0,\"ticks\":\"\"}}],\"contour\":[{\"type\":\"contour\",\"colorbar\":{\"outlinewidth\":0,\"ticks\":\"\"},\"colorscale\":[[0.0,\"#0d0887\"],[0.1111111111111111,\"#46039f\"],[0.2222222222222222,\"#7201a8\"],[0.3333333333333333,\"#9c179e\"],[0.4444444444444444,\"#bd3786\"],[0.5555555555555556,\"#d8576b\"],[0.6666666666666666,\"#ed7953\"],[0.7777777777777778,\"#fb9f3a\"],[0.8888888888888888,\"#fdca26\"],[1.0,\"#f0f921\"]]}],\"surface\":[{\"type\":\"surface\",\"colorbar\":{\"outlinewidth\":0,\"ticks\":\"\"},\"colorscale\":[[0.0,\"#0d0887\"],[0.1111111111111111,\"#46039f\"],[0.2222222222222222,\"#7201a8\"],[0.3333333333333333,\"#9c179e\"],[0.4444444444444444,\"#bd3786\"],[0.5555555555555556,\"#d8576b\"],[0.6666666666666666,\"#ed7953\"],[0.7777777777777778,\"#fb9f3a\"],[0.8888888888888888,\"#fdca26\"],[1.0,\"#f0f921\"]]}],\"mesh3d\":[{\"type\":\"mesh3d\",\"colorbar\":{\"outlinewidth\":0,\"ticks\":\"\"}}],\"scatter\":[{\"fillpattern\":{\"fillmode\":\"overlay\",\"size\":10,\"solidity\":0.2},\"type\":\"scatter\"}],\"parcoords\":[{\"type\":\"parcoords\",\"line\":{\"colorbar\":{\"outlinewidth\":0,\"ticks\":\"\"}}}],\"scatterpolargl\":[{\"type\":\"scatterpolargl\",\"marker\":{\"colorbar\":{\"outlinewidth\":0,\"ticks\":\"\"}}}],\"bar\":[{\"error_x\":{\"color\":\"#2a3f5f\"},\"error_y\":{\"color\":\"#2a3f5f\"},\"marker\":{\"line\":{\"color\":\"#E5ECF6\",\"width\":0.5},\"pattern\":{\"fillmode\":\"overlay\",\"size\":10,\"solidity\":0.2}},\"type\":\"bar\"}],\"scattergeo\":[{\"type\":\"scattergeo\",\"marker\":{\"colorbar\":{\"outlinewidth\":0,\"ticks\":\"\"}}}],\"scatterpolar\":[{\"type\":\"scatterpolar\",\"marker\":{\"colorbar\":{\"outlinewidth\":0,\"ticks\":\"\"}}}],\"histogram\":[{\"marker\":{\"pattern\":{\"fillmode\":\"overlay\",\"size\":10,\"solidity\":0.2}},\"type\":\"histogram\"}],\"scattergl\":[{\"type\":\"scattergl\",\"marker\":{\"colorbar\":{\"outlinewidth\":0,\"ticks\":\"\"}}}],\"scatter3d\":[{\"type\":\"scatter3d\",\"line\":{\"colorbar\":{\"outlinewidth\":0,\"ticks\":\"\"}},\"marker\":{\"colorbar\":{\"outlinewidth\":0,\"ticks\":\"\"}}}],\"scattermapbox\":[{\"type\":\"scattermapbox\",\"marker\":{\"colorbar\":{\"outlinewidth\":0,\"ticks\":\"\"}}}],\"scatterternary\":[{\"type\":\"scatterternary\",\"marker\":{\"colorbar\":{\"outlinewidth\":0,\"ticks\":\"\"}}}],\"scattercarpet\":[{\"type\":\"scattercarpet\",\"marker\":{\"colorbar\":{\"outlinewidth\":0,\"ticks\":\"\"}}}],\"carpet\":[{\"aaxis\":{\"endlinecolor\":\"#2a3f5f\",\"gridcolor\":\"white\",\"linecolor\":\"white\",\"minorgridcolor\":\"white\",\"startlinecolor\":\"#2a3f5f\"},\"baxis\":{\"endlinecolor\":\"#2a3f5f\",\"gridcolor\":\"white\",\"linecolor\":\"white\",\"minorgridcolor\":\"white\",\"startlinecolor\":\"#2a3f5f\"},\"type\":\"carpet\"}],\"table\":[{\"cells\":{\"fill\":{\"color\":\"#EBF0F8\"},\"line\":{\"color\":\"white\"}},\"header\":{\"fill\":{\"color\":\"#C8D4E3\"},\"line\":{\"color\":\"white\"}},\"type\":\"table\"}],\"barpolar\":[{\"marker\":{\"line\":{\"color\":\"#E5ECF6\",\"width\":0.5},\"pattern\":{\"fillmode\":\"overlay\",\"size\":10,\"solidity\":0.2}},\"type\":\"barpolar\"}],\"pie\":[{\"automargin\":true,\"type\":\"pie\"}]},\"layout\":{\"autotypenumbers\":\"strict\",\"colorway\":[\"#636efa\",\"#EF553B\",\"#00cc96\",\"#ab63fa\",\"#FFA15A\",\"#19d3f3\",\"#FF6692\",\"#B6E880\",\"#FF97FF\",\"#FECB52\"],\"font\":{\"color\":\"#2a3f5f\"},\"hovermode\":\"closest\",\"hoverlabel\":{\"align\":\"left\"},\"paper_bgcolor\":\"white\",\"plot_bgcolor\":\"#E5ECF6\",\"polar\":{\"bgcolor\":\"#E5ECF6\",\"angularaxis\":{\"gridcolor\":\"white\",\"linecolor\":\"white\",\"ticks\":\"\"},\"radialaxis\":{\"gridcolor\":\"white\",\"linecolor\":\"white\",\"ticks\":\"\"}},\"ternary\":{\"bgcolor\":\"#E5ECF6\",\"aaxis\":{\"gridcolor\":\"white\",\"linecolor\":\"white\",\"ticks\":\"\"},\"baxis\":{\"gridcolor\":\"white\",\"linecolor\":\"white\",\"ticks\":\"\"},\"caxis\":{\"gridcolor\":\"white\",\"linecolor\":\"white\",\"ticks\":\"\"}},\"coloraxis\":{\"colorbar\":{\"outlinewidth\":0,\"ticks\":\"\"}},\"colorscale\":{\"sequential\":[[0.0,\"#0d0887\"],[0.1111111111111111,\"#46039f\"],[0.2222222222222222,\"#7201a8\"],[0.3333333333333333,\"#9c179e\"],[0.4444444444444444,\"#bd3786\"],[0.5555555555555556,\"#d8576b\"],[0.6666666666666666,\"#ed7953\"],[0.7777777777777778,\"#fb9f3a\"],[0.8888888888888888,\"#fdca26\"],[1.0,\"#f0f921\"]],\"sequentialminus\":[[0.0,\"#0d0887\"],[0.1111111111111111,\"#46039f\"],[0.2222222222222222,\"#7201a8\"],[0.3333333333333333,\"#9c179e\"],[0.4444444444444444,\"#bd3786\"],[0.5555555555555556,\"#d8576b\"],[0.6666666666666666,\"#ed7953\"],[0.7777777777777778,\"#fb9f3a\"],[0.8888888888888888,\"#fdca26\"],[1.0,\"#f0f921\"]],\"diverging\":[[0,\"#8e0152\"],[0.1,\"#c51b7d\"],[0.2,\"#de77ae\"],[0.3,\"#f1b6da\"],[0.4,\"#fde0ef\"],[0.5,\"#f7f7f7\"],[0.6,\"#e6f5d0\"],[0.7,\"#b8e186\"],[0.8,\"#7fbc41\"],[0.9,\"#4d9221\"],[1,\"#276419\"]]},\"xaxis\":{\"gridcolor\":\"white\",\"linecolor\":\"white\",\"ticks\":\"\",\"title\":{\"standoff\":15},\"zerolinecolor\":\"white\",\"automargin\":true,\"zerolinewidth\":2},\"yaxis\":{\"gridcolor\":\"white\",\"linecolor\":\"white\",\"ticks\":\"\",\"title\":{\"standoff\":15},\"zerolinecolor\":\"white\",\"automargin\":true,\"zerolinewidth\":2},\"scene\":{\"xaxis\":{\"backgroundcolor\":\"#E5ECF6\",\"gridcolor\":\"white\",\"linecolor\":\"white\",\"showbackground\":true,\"ticks\":\"\",\"zerolinecolor\":\"white\",\"gridwidth\":2},\"yaxis\":{\"backgroundcolor\":\"#E5ECF6\",\"gridcolor\":\"white\",\"linecolor\":\"white\",\"showbackground\":true,\"ticks\":\"\",\"zerolinecolor\":\"white\",\"gridwidth\":2},\"zaxis\":{\"backgroundcolor\":\"#E5ECF6\",\"gridcolor\":\"white\",\"linecolor\":\"white\",\"showbackground\":true,\"ticks\":\"\",\"zerolinecolor\":\"white\",\"gridwidth\":2}},\"shapedefaults\":{\"line\":{\"color\":\"#2a3f5f\"}},\"annotationdefaults\":{\"arrowcolor\":\"#2a3f5f\",\"arrowhead\":0,\"arrowwidth\":1},\"geo\":{\"bgcolor\":\"white\",\"landcolor\":\"#E5ECF6\",\"subunitcolor\":\"white\",\"showland\":true,\"showlakes\":true,\"lakecolor\":\"white\"},\"title\":{\"x\":0.05},\"mapbox\":{\"style\":\"light\"}}}},                        {\"responsive\": true}                    ).then(function(){\n",
       "                            \n",
       "var gd = document.getElementById('68b7976f-f8a2-494c-a570-c80ed51c8490');\n",
       "var x = new MutationObserver(function (mutations, observer) {{\n",
       "        var display = window.getComputedStyle(gd).display;\n",
       "        if (!display || display === 'none') {{\n",
       "            console.log([gd, 'removed!']);\n",
       "            Plotly.purge(gd);\n",
       "            observer.disconnect();\n",
       "        }}\n",
       "}});\n",
       "\n",
       "// Listen for the removal of the full notebook cells\n",
       "var notebookContainer = gd.closest('#notebook-container');\n",
       "if (notebookContainer) {{\n",
       "    x.observe(notebookContainer, {childList: true});\n",
       "}}\n",
       "\n",
       "// Listen for the clearing of the current output cell\n",
       "var outputEl = gd.closest('.output');\n",
       "if (outputEl) {{\n",
       "    x.observe(outputEl, {childList: true});\n",
       "}}\n",
       "\n",
       "                        })                };                });            </script>        </div>"
      ]
     },
     "metadata": {},
     "output_type": "display_data"
    }
   ],
   "source": [
    "# feature names\n",
    "feature_names = X_val_scaled.columns\n",
    "\n",
    "# Get the feature importances\n",
    "importances = best_model.feature_importances_\n",
    "\n",
    "# Get the indices that would sort the importances in ascending order\n",
    "sorted_indices = np.argsort(importances)\n",
    "\n",
    "# Reverse the order of the sorted indices to get descending order\n",
    "descending_indices = sorted_indices[::-1]\n",
    "\n",
    "# Sort the importances and feature names in descending order\n",
    "importances_descending = importances[descending_indices]\n",
    "feature_names_descending = feature_names[descending_indices]\n",
    "\n",
    "# Create a bar chart of the feature importances\n",
    "fig = go.Figure(\n",
    "    data=[go.Bar(x=feature_names, y=importances_descending)],\n",
    "    layout=go.Layout(title=\"Feature Importances\")\n",
    ")\n",
    "\n",
    "# Show the chart\n",
    "fig.show()"
   ]
  },
  {
   "cell_type": "markdown",
   "id": "c3534615",
   "metadata": {},
   "source": [
    "##### Model performance on Test Set"
   ]
  },
  {
   "cell_type": "code",
   "execution_count": 28,
   "id": "ff01774f",
   "metadata": {},
   "outputs": [
    {
     "name": "stdout",
     "output_type": "stream",
     "text": [
      "              precision    recall  f1-score   support\n",
      "\n",
      "         0.0       0.69      0.49      0.57     30269\n",
      "         1.0       0.72      0.86      0.79     47503\n",
      "\n",
      "    accuracy                           0.71     77772\n",
      "   macro avg       0.71      0.67      0.68     77772\n",
      "weighted avg       0.71      0.71      0.70     77772\n",
      "\n"
     ]
    }
   ],
   "source": [
    "# predict model on test set\n",
    "y_pred_test = best_model.predict(X_test_scaled)\n",
    "\n",
    "# Generate the classification report\n",
    "report = classification_report(y_test, y_pred_test)\n",
    "\n",
    "# Print the report\n",
    "print(report)"
   ]
  },
  {
   "cell_type": "markdown",
   "id": "ab7e0de9",
   "metadata": {},
   "source": [
    "## 4. Conclusion"
   ]
  },
  {
   "cell_type": "markdown",
   "id": "b001024c",
   "metadata": {},
   "source": [
    "In this Jupyter notebook, we present the different stages of developing a machine learning model for predicting credit card approval. These stages include data preprocessing, model training and evaluation, and model interpretation. We evaluated two classifiers: logistic regression, and random forest. The random forest classifier model performed the best and was identified as the winning model. Moreover, it is important to note that the random forest classifier model does not overfit on the training set and it generalizes well on the test set.\n",
    "\n",
    "Although our results demonstrate promising ML performance, there is room for improvement in model perfromance. This could be achieved by experimenting with additional data preprocessing steps, exploring a larger hyperparameter space, or experimenting with different algorithms. Nevertheless, this work highlights the potential value of ML in automating the credit card approval process, which could provide banks with a valuable tool."
   ]
  }
 ],
 "metadata": {
  "kernelspec": {
   "display_name": "myenv_CCA",
   "language": "python",
   "name": "myenv_cca"
  },
  "language_info": {
   "codemirror_mode": {
    "name": "ipython",
    "version": 3
   },
   "file_extension": ".py",
   "mimetype": "text/x-python",
   "name": "python",
   "nbconvert_exporter": "python",
   "pygments_lexer": "ipython3",
   "version": "3.8.16"
  }
 },
 "nbformat": 4,
 "nbformat_minor": 5
}
